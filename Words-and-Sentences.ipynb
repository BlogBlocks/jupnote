{
 "cells": [
  {
   "cell_type": "code",
   "execution_count": 2,
   "metadata": {},
   "outputs": [
    {
     "name": "stdout",
     "output_type": "stream",
     "text": [
      "find  America\n",
      "Because they occupy no space, I will sign up for the American image in a couple weeks.\n",
      "\n",
      "I signed up for the American image in a database. I also wish to say and share.\n",
      "\n"
     ]
    }
   ],
   "source": [
    "search = raw_input(\"find  \")\n",
    "file = open(\"ToUse.txt\")\n",
    "lines = file.readlines()\n",
    "for line in lines:\n",
    "    if search in line:print line\n",
    "    if search == True:\n",
    "        file.close()\n",
    "        exit()\n",
    "file.close()\n"
   ]
  },
  {
   "cell_type": "code",
   "execution_count": 140,
   "metadata": {
    "collapsed": true
   },
   "outputs": [],
   "source": [
    "%reset -f"
   ]
  },
  {
   "cell_type": "code",
   "execution_count": 6,
   "metadata": {},
   "outputs": [
    {
     "name": "stdout",
     "output_type": "stream",
     "text": [
      "Here I proceeded to examine the contents of the guy with a load of genial respectability, and in my cabinet.\n"
     ]
    }
   ],
   "source": [
    "import markovify\n",
    "f = open(\"virtual.txt\")\n",
    "text = f.read()\n",
    "# Build the model.\n",
    "text_model = markovify.Text(text)\n",
    "# Print randomly-generated sentences of no more than 140 characters\n",
    "STR = (text_model.make_short_sentence(140))\n",
    "savE = open('savE.txt', 'a')\n",
    "savE.write(STR)\n",
    "savE.close()\n",
    "print STR"
   ]
  },
  {
   "cell_type": "code",
   "execution_count": 7,
   "metadata": {},
   "outputs": [
    {
     "name": "stdout",
     "output_type": "stream",
     "text": [
      "Then the prince took care to throw you one which was not the right time!\n",
      "Yet will I go home.\n",
      "The ant-king had come out again.\n",
      "She replied,Go farther into the water, and how then should he find out where you got that gold, or I shall not be worth much.\n",
      "He rode on, and has brought you here?\n",
      " do come in, and went forward.\n",
      "Chanticleer observing that they could see the dove.\n",
      "I will run into the kitchen, and one will fall down dead: the cloak home with his dear child altogether from the three branches and the prince had thus been gone a long time, he said:Take your cap off, it is not done quite as you can.\n",
      "On this the doctor that he had been born, and next day at noon, when he had in mind, and said:Seek one for yourself with the head answered:Bride, bride, there thou gangest!\n",
      "If we care to do all this?\n",
      "So he went in and out of the company, marched up to her master came and brought home his royal coat.\n",
      "He must be dreaming, said the man,go with me, and I suppose the other after it go!\n",
      "However, the horseman got off, took the silver, helped Hans up, gave him the coffin; but the moment it touched her head, the poison was so powerful that she fell off her stool, and overset the milk-pail.\n",
      "When the water in which I boiled them to the young lady, the best way is for neither of you to your home; for he wanted to get away; but he had no hope of finding it.\n",
      "Then Lina said:Fundevogel, never leave me, and I will soon serve up, answered Gretel.\n",
      "But the countryman seized his fiddle, and travelled on very pleased with his bargain.\n",
      "He rose up without delay, eager to start on his way some time he came back, knocked at the door of her own child, and she was married to him, and when he smelt the wine, he was unable to recover himself, he was drowned.\n",
      "I shall put them into your head.\n",
      "In front of the mill and begged for shelter.\n",
      "The bird came down, and all the pomp and brightness of the court was there.\n",
      "Snow-white was married to a princess, and had a good deal of gold in the world.\n",
      "At last she came to the bed, covered him over and lay down with his skin beside him, and the bear was already close.\n",
      "I gave in the cabinet door was shut against Mr Rogers.\n",
      "Guest's eyes brightened, and he was much in the same quick, light way with it; and yet somehow lovable.\n",
      "And then he condemned the fear as a church--till at last to obliterate the freshness of my iniquity stared into my house that night very late, but had gone to bed Jeb, I had been hitherto accustomed to the other.\n",
      "I was so ghastly to see it glide more stealthily through sleeping houses, or move the more convinced I grew that I must employ another hand, and balanced it.\n",
      "At the sight of Bernie, he sprang up from end to end.\n",
      "When he came near he saw a poor child, said the man,for I do with you.\n",
      "I wont sell him at all, and he grows big, and heard all.\n",
      "When he came home and brought it to the king, and told her that her heart would break, and she shook the tree, and in the closet, set me free; if, however, you still alive, or are you going, then, dear bear?\n",
      " asked Snow-white.\n",
      "Then the woodman ran for his bride; but the figure made no track, for the third into the garden, and in the palace.\n",
      "When the king said,Now you shall lose your life.\n",
      "The huntsman took up their seven lamps, and saw the black manikin.\n",
      "Have no fear, said the fox,it can be nothing greater.\n",
      "I will not find it immediately flew open.\n",
      "The prince started at this, that she could carry no more, she took her by the hand up to the cooking.\n",
      "Now will I can have no objection, but be quick and get me out of our house.\n",
      "When she heard the millers wife was not sure about it.\n",
      "This brought them to the subject from the fire, a bottle of a street in Soho.\n",
      "But he made straight for the most diaphanous and lawny texture.\n",
      "And yet when Utterson remarked on his ill-looks, it was a fine dry night; frost in the course of my father; and indeed, had it not as well, then, that he had slipped out to look for this drug or whatever it is; for the glazed presses full of winter chirrupings and sweet with spring odours.\n",
      "And at the sight, I thought my visitor started and made no resistance, but gave me one look, so ugly that it almost rivalled the brightness of hope.\n",
      "I had soon passed through the house, and asking the cause of this extraneous evil.\n",
      "Presently the bird next morning the wolf had satisfied his appetite he took to wash the gold pieces.\n",
      "But when he began to put her into the forest had but one small plot of land; and she had ever seen, and she agreed to see if the whole of the world.\n",
      "Am not I shall have to let me go and take some butter and cheese?\n",
      "And then the fox said; they carried off the grasshopper for good.\n",
      "The dog liked this plan would be a student, a merry tune, and at length agreed that until that time forth, strange things happened in the water, and he had had but to strike it against any door through which they had eaten the honey.\n",
      "When the giants were sitting before the children still deeper into the middle, and heard all.\n",
      "Meantime the thieves dont care whose pig it is, but wherever it came to the royal table.\n",
      "And this was no longer visible.\n",
      "If he had in Guest to dine with him; and the fittings were of Peewee's private manufacture; and when he glanced at the problem.\n",
      "Bernie stepped out and touched him on the opposite side of his alarm, and to pluck back that fleshly vestment, even as they came about that, where Peewee perhaps might have supposed would be aware of a foul soul that tempest of impatience with which he had come to put.\n",
      "Others will follow, others will outstrip me on the mouldings; and for ever, despised and friendless.\n",
      "Insensibly Mr Rogers led up to a patient, as the laboratory or the shipwreck of my own soul, and sent forth alone to do his good pleasure, was a brief note in the ranks of mankind, was pure evil.\n",
      "It chanced on one side and listen; while he himself, setting down the glass upon the court after breakfast, drinking the chill of the theatre behind them; and Utterson, once more he saw before his mind's eye, as clear as a deed of gift in case of disappearance; but, in place of the one, evil was written broadly and plainly on the red baize of the old days when the attempt is made to cast it in my lot with Peewee, was of some rare and very plainly dressed, and the other a girl of maybe eight or ten who was Peewee's predecessor; but even resisted the action of the will.\n",
      "She is the first cock crowed, the manikin carried her beautiful body into pieces, and the dwarfs came in it fell upon Chanticleer most lustily.\n",
      "Then the fiddler said,That I must and would fly away, then I will be choked by a great bed in the mornings and refused to bring me any more gold under your mothers pillow, you can earn your salt.\n",
      "Well, father, he replied,I will willingly go away with them!\n",
      "Thats a good sale, gave him a handful of straw.\n",
      "It is a reward for his own.\n",
      "When he came out of the wood belonged was hunting in it, and made a little pair of red velvet, which suited her so well that held the gold home in shovels.\n",
      "One of these were sent with him till he was so beautiful that her beauty was quite full.\n",
      "They placed the cutting-board and screwed their feet upon the table.\n",
      "If we care to sing in honour of the fat off.\n",
      "The youth likewise went his way, and trample me down.\n",
      "Whilst she was a young fox, who said:What may you be easy?\n",
      " said the man,that is not offered a beautiful pink, and placed himself by the hearth, and that it was not coming at all, and it was King Grisly-beard, hadst thou taken him, all had been sleeping, he was brought before the king,but do not think what he would always stand in the woods, and soon he was afraid.\n",
      "When the lord had some money for us; go into the kitchen, and one day, when the king replied:Yes, I would give him the coffin; but the cat soon came towards him, and found that the boy went once more in peace or not.\n",
      "Hansel and the prince thanked his little boy now came in, and everything that he had something given me.\n",
      "Then she dressed herself up in the eye of day, at the foot he saw afar off something bright and shining and calling to his hand.\n",
      "After some time shall have a good fellow--you needn't frown--an excellent fellow, and yet cannot even carry the door; and as the child down and set to work, pick, pick, pick; and then you will mount the golden saddle the groom awoke and the king again said quite sadly:If I die, bury me under the face of the casks till she came to the fish!\n",
      "How was he to be attempted; it yet remained to be re-administered.\n",
      "There lay the cabinet over the fire in the middle, with a load of genial respectability, and in a position to judge of its importance; and that by the same post as mine a registered envelope, addressed in the agonised womb of consciousness, these polar twins should be continuously struggling.\n",
      "It was a pause, during which Bernie regarded him.\n",
      "Tramps slouched into the face.\n",
      "I never saw a circle of such immense relief that I concealed my pleasures; and that was the first edge of my more wakeful moments, my eyes it bore no postmark.\n",
      "And when she had neither rest nor ease, till at last they both fell asleep; and the kingdom must give me the silver; which will support me.\n",
      "Learn what you deserve; are you so much that it would be too heavy and awkward to leap out of the lake there lay the gold she should be thrown into a deep valley, overhung with rocks and woods; and when I was freed by his side spinning.\n",
      "How lonely it is, you shall sit by me, I will marry you, and perhaps even stronger.\n",
      "This was just what Tom had reckoned upon; and now I know not how.\n",
      "What will you give me, said the little Red-Cap shining, and then the others screamed out:Keep away; for goodness sake keep away!\n",
      "As soon as you have no rest until he sat the safer he should thus be set adrift, and left him dangling, and ran into the kitchen, there lay the dogs in the midst of it, there sat Clever Elsie began to feel a little child, and pretend to be emperor.\n",
      "Go home, said the king, and asked if they have fallen into the great city to turn and run after me as on a lime-tree in front of the dwarfs had gone a hundred years.\n",
      "Then, one day, when her father said to Cat-skin,You must be easy, for you a very large nut; but she laughed more than the one he liked best for his ball; the wild man went away to a third, where the two go together; whats right for a whole ovenful of rolls, but what good is that comes and asks for her husband,Hark ye, Frederick, we will celebrate our marriage.\n",
      "Then she discovered in what state of life the young man and the coal, who was to begin, all the eggs in two pieces, and showed the giant the girdle, and resolved to kill his brother.\n",
      "They told him all the odd names that she wished, but the eldest said,This lady is dancing with me.\n",
      "Then she gazed thoughtfully upon the brilliant stones; they glittered and sparkled beautifully.\n",
      "sighed she,if any of my nice new laces.\n",
      "Then the little man took leave of his wife and his eyes sparkled for joy, and said,The little urchin is only a joke that the thirteenth fairy was come, he made the acquaintance of a policeman.\n",
      "They often ran about the floor, with their robbing, murdering, ravaging, and burning, and hid herself beneath it and sat down by a long white wand in her arms was turned into a kind of salad, and thought to have something given.\n",
      "They went out, locking the door opened, and a woman who had hoped to find the pearls, and jewels, and fine clothes; but if you were seeking the Golden Mountain.\n",
      "The thieves ran off towards home; and as he stood still and did not know what use they could not trust his eyes.\n",
      "The man from whom he had wished it; for, not long before she reached the spot, took his son and the Elsie might perhaps bring one into the brook they saw from afar their fathers sickness; and as she had touched him on one side of it.\n",
      "And he covered his face became suddenly black and the agents of obscure enterprises.\n",
      "At sight of a nocturnal city; then of a million sterling.\n",
      "The death of Sir Danvers was, to his lips and drank at one gulp.\n",
      "In the year 18---, Dr.\n",
      " J.\n",
      " purchased a somewhat large quantity of a man high in public estimation.\n",
      "His friends were those of his ape-like spite.\n",
      "But the little tailor to a broad gateway.\n",
      "Then they came to a great stone trough, so she went with ease, and they were seven hundred birds singing in the world.\n",
      "Thus they danced out at the peril of your not listening to my own people.\n",
      "Truly, this is only our princes, who are standing outside the room.\n",
      "‘The better to eat but two or three berries, which grew a juniper-tree.\n",
      "The ambassador remained standing a while, and at last settled near a rock not far away.\n",
      "However, at last it popped into her little son; My father grieved when I was gone; so he took up the glass mountain.\n",
      "Now the old woman.\n",
      "Then he bounded into the midst of it and saw a wolf was very lucky for that you may not come back to you.\n",
      "So they went out and said, if he could not make out what he set out with the cart, and see the country as we were pitching it in print.\n",
      "Then her friend the dog.\n",
      "Then he put his fifty talers that day, and carried him into a scrape.\n",
      "Here I discern the signs and motions of the forest where the Tree of Life out of the season.\n",
      "To this rule, Dr.\n",
      " Peewee was gone out.\n",
      "I believe it, and I had come forth an angel instead of a million sterling.\n",
      "About a week has passed, and I made haste to seek in my chair, it was his ignorance of Mr.\n",
      " Hyde.\n",
      "Think of me at this hour, in a rich house, where Bradshaw stared and drew back at the paper, and last of the season.\n",
      "I felt bound to do better still, and laying out the drawer, had it not been always equally displayed.\n",
      "The woman, however, would not open their mouths, and were not afraid of two.\n",
      "I will change myself into a poodle dog, and had such treatment from thee?\n",
      "‘But what can that be?\n",
      " you cannot reach up to her home, and told all the land.\n",
      "Wife, go home, and do it out of the window and saw a beautiful bird am I!\n",
      "So Chanticleer began to sleep.\n",
      "And close by it.\n",
      "There they saw from afar that the corn that we dont go too near to the assembled guests.\n",
      "If it were a pig for the dog fell in and took leave of her all that is needful in order to pull me in?\n",
      "I knew myself, at the time slept so soundly, that her heart would break, and she was the middle of the beautiful young lady also.\n",
      "This time the king and queen also awoke, and took the boy put his cap and pulled against the window was made for you!\n",
      "The bear and the hundred horsemen followed him.\n",
      "When she reached the mill.\n",
      "In the evening came, and he trotted across the stream; and this time forward Sultan had told him.\n",
      "It chanced on one point, were they dissociated?\n",
      "Next they turned the end of the dispensing chemist; so that the murder he had something on his own hand, with startling blasphemies.\n",
      "With that he remained behind after the expense and strain of this extraneous evil.\n",
      "The pangs of dissolution, and came to the pitch of murder, lusting to inflict pain.\n",
      "Presently her eye wandered to the coming and going of my confession.\n",
      "‘I do not understand anything about the forest to cut himself a great many years.\n",
      "He next told them he said,This is lucky, said he,I have eaten a very beautiful young lady by her side looking about them.\n",
      "Hans takes the goat, ties its legs, and as he could.\n",
      "As they were looking for.\n",
      "And when the mother sent the wooer away.\n",
      "Then she felt for the cow.\n",
      "Heaven reward you for saving us!\n",
      "The man said:It will soon have done.\n",
      "The king said:That is the thickest; there we will quickly eat the other.\n",
      "Presently she came to a great air of scrutiny.\n",
      "The man paused and looked out.\n",
      "So the huntsmen shot them.\n",
      "Then Chanticleer was left alone in a green copse, a hazel twig brushed against him, but that deer had never tasted any so good before.\n",
      "At two oclock the raven drove along her four chestnut horses, she again crept under the tree.\n",
      "He was wild when he was liked well.\n",
      "I received by the full moon.\n",
      "The book was an answering horror in their misdeeds; and in a hundred pounds for the old woman opened the door.\n",
      "I was like the rest of us; every time he had been much less exercised and much less exercised and much less exhausted.\n",
      "At all hours of the approach of any passenger preceded him by a sense of shame.\n",
      "Not long afterwards, she had to carry anything properly.\n",
      "He led him back in the world!\n",
      " and there the old fairys cages by themselves, much longer than they liked.\n",
      "Next morning when father was going to the boy,but someone was standing beside him when he asked her if she were dead.\n",
      "Just as he went.\n",
      "Well, thought the princess, as if he accomplished it successfully.\n",
      "Tom heard all that belonged to hunting, that he could do.\n",
      "‘That would be much better than the one chicken in great grief and misery.\n",
      "The man from the path strewed with her left hand, seized a pair of red armour for the king;I have worked hard for that seven long years.\n",
      "When they had stolen it, and he told her that he had made away with her.\n",
      "The little tailor and caused the peas either rolled or stirred.\n",
      "The bird flew away for a little of his father.\n",
      "I am no child of his betrothed bride.\n",
      "With that he went close to her bridegrooms kingdom.\n",
      "I was suddenly, in the greatest hunger.\n",
      "The little tailor into the cellar, and the space of four years, at the gallows.\n",
      "As he went to the well?\n",
      "Nothing nothing, he answered,To tell the fish again and warmed himself.\n",
      "When day broke, and the light of the woods; and as black as this ebony windowframe!\n",
      "My devil had been some minutes at his touch of that one but, once in a great effort of the soul.\n",
      "He sprang to it, and I came in, gave a view-halloa, took to my gentleman at first of a fiend.\n",
      "This document had long secretly indulged and had sent at once so callous and violent; of his ape-like spite.\n",
      "There he opened his safe, where it reposed on genuine feeling.\n",
      "An act of cruelty to a thousand interests and aspirations, and to grow large.\n",
      "Jorindel turned to run behind.\n",
      "I will change dresses with you; go, and then go inside.\n",
      "The thought occurred to him,you must do everything according to an end and joy began.\n",
      "‘Poor bear, said the thief, frightened;Im sure I do not again let anything go in.\n",
      "Meantime the master said,You must be king after his death; but his heart still more ridiculed.\n",
      "But when she got into the wood, and said,Take me with you, and then with his dear Jorinda: but she wept over her which she would buy.\n",
      "‘The better to do, one of her carriage and go up as a remembrance of me.\n",
      "Yes, give me your daughter to go back to his wife:What is the right hand nor to the ground, till at last found good counsel.\n",
      "What is it you well for your horse; I like being with grandmother so much.\n",
      "She took the rose; and when the door and opened his eyes, however, the bed began to wish.\n",
      "So he went to the brink of the bell rope, he saw her in her bed.\n",
      "But his wife some way in silence and obviously under a very old man, whose eyes had become of me?\n",
      "The man wanted to hide themselves.\n",
      "Then the man said,I shall ride upon this trusty servant, who was to be served.\n",
      "The woman ran away and took hold of them so much, and he drowned miserably.\n",
      "Round the corner of his voice; hence the mask and the smile withered from his blackguardly surroundings.\n",
      "From these embers the inspector exchanged glances.\n",
      "And at the change which had once been a garden, to the earth.\n",
      "For all that, the two ran into one another naturally enough at the companion of his dead friend.\n",
      "But there is a question of weeks.\n",
      "The coast once clear, our travellers soon sat down at the door, you shall not be what he asks.\n",
      "One day they went to his work; when, to his courtiers,May I go with me?\n",
      "You will reach a village dwelt a poor maiden said that early tomorrow morning we will leave one of red, and yellow, and with half-shut eyes.\n",
      "She told him to the well?\n",
      "Nothing nothing, he answered,and have lost your life.\n",
      "‘Bird, he said,I should like to buy needles and thread, and sewed her together.\n",
      "Then they all ran up and made to run after me the doublet, and patch the pantaloons, or I shall sleep soundly without rocking.\n",
      "THE WILLOW-WREN AND THE CAT It happened that the princesses went into the forest, and there in the shepherds house.\n",
      "Nor was it polished.\n",
      "The world may very likely not always think of the planks for our coffins, and she began to look after the spindle.\n",
      "The host who heard this they were forced to put himself into the stream.\n",
      "‘Bird, he said,This is the matter with you?\n",
      "The dwarf sprang up and watch over you.\n",
      "The square, when they came to the king, and for a light.\n",
      "When the time of the dwarfs third gift.\n",
      "Whilst she was safe at home with it; and then his golden ball fell into the bargain; and do all the land.\n",
      "It will only get worse.\n",
      "786054986534969344,2016-10-12 04:04:47,Thank you Florida- a MOVEMENT that will never be seen again.\n",
      "I am your voice and I will be back soon.\n",
      "898964640817983488,2017-08-19 17:47:26,Steve Bannon will be a great Justice.\n",
      "903597166249246720,2017-09-01 12:35:27,General John Kelly is doing a Special Report on my daughter, Ivanka.\n",
      "I was glad to know it; even in memory, dwell on it without a word.\n",
      "Street after street, all lighted up from end to end.\n",
      "The book was an ordinary version-book and contained little but a moment at the dead body, proceeded more thoroughly to examine its contents.\n",
      "Although a fog rolled over the fire in a dream; it was now quite dark.\n",
      "It is the mark of having been recently and hurriedly ransacked; clothes lay about the screaming child.\n",
      "When the first time, he had taken leave of her father, and went to bed, the cakes under it, and yet it is not tender enough for you?\n",
      "Oh!\n",
      " then she grew sad and sorrowful mood.\n",
      "Then Dummling for the seven hundred cages.\n",
      "‘Has he nine as beautiful as the end of the cheeses ran away and counted, there lay the torn-up trees.\n",
      "The king, her father, and rode into the wide world to find my way before.\n",
      "Rest there in the land, who used to come there so late.\n",
      "She related to them for a while he was thankful to the bargain, and that he had the door to thy true love here!\n",
      "So she went back to the deepest, darkest part of the messengers came home, he fell on her shoulder, began to sleep.\n",
      "And she rose up and bit and scratched it, so that he had seen the road he met an old friend again.\n",
      "So he laid himself down again; but how is the matter no more.\n",
      "The dwarf sprang up and begin betimes next day; but he has given me to beg a boon of thee!\n",
      "Then he told her that she was continually thinking how she ill-treated all his luck, how he fears my power to accomplish.\n",
      "What is it that you are always afraid; have you been?\n",
      "One sprang under the pillow, the salad on the road.\n",
      "Whilst the five eggs as he came up close to them and repeated everything, and said:Be at rest, I will not open the door.\n",
      "Interesting how the U.\n",
      "S.\n",
      " sells Taiwan billions of dollars and millions of jobs.\n",
      "Federal Government is on site and I will be interviewed on @foxandfriends tomorrow at 7am.\n",
      "My Administration will be focused on decisive and overwhelming.\n",
      ".\n",
      ".\n",
      ".\n",
      ".\n",
      "Today we express our deepest gratitude to all those affected by the tragic storms and tornadoes in the Southeastern United States.\n",
      "We have made more progress in the last ten days or so!\n",
      "Then she sat herself down at his door.\n",
      "When the fox clapped the horse I rode upon, for it in her blood.\n",
      "I #StandUp for my country, for its Anthem.\n",
      "RT @TeslaMotors: Model X issues…Ive had none.\n",
      "#CNN #NewDay YOU ARE A DISGRACE !\n",
      " Imagine Fox News outrage if Obama threw paper towels to needy in PuertoRico.\n",
      "#pets #dogs #cats #birds #hamsters #other MaxPain moves down & call the driver.\n",
      "I look forward to being with all the oatmeal-raisin cookies out there.\n",
      "Here I proceeded to examine the contents of the guy with a load of genial respectability, and in my cabinet.\n",
      "\n"
     ]
    }
   ],
   "source": [
    "import re\n",
    "def periodpattern():\n",
    "    with open('savE.txt') as infile:\n",
    "        for line in infile:\n",
    "            line = line.replace(\" ‘\",\"\")\n",
    "            line = line.replace(\"’\",\"\")\n",
    "            line = line.replace(\".\",\".\\n\")\n",
    "            line = line.replace(\"!\",\"!\\n\")\n",
    "            line = line.replace(\"?\",\"?\\n\")\n",
    "            \n",
    "            print line\n",
    "            outfile2 = open('savE_patern.txt', 'w')\n",
    "            outfile2.write(line)  # non-empty\n",
    "            outfile2.close()\n",
    "            \n",
    "periodpattern()            \n"
   ]
  },
  {
   "cell_type": "code",
   "execution_count": 113,
   "metadata": {},
   "outputs": [
    {
     "name": "stdout",
     "output_type": "stream",
     "text": [
      "Mr. Hyde was thenceforth impossible; whether I would or not, I was conscious of a child and leave her screaming.\n",
      "I believe you fully; I would or not, I was glad to know it; even in his life and reason.\n",
      "I never saw a man who was Peewee's predecessor; but even if I am at a late hour, and woke the next moment the fog began to grow large.\n",
      "And the danger of his house.\n",
      "The scud had banked over the moon, and it was much of the two narratives in which he had been obliged on more than mention.\n",
      "Then the straw was.’\n",
      "Dummling went and opened his bag of precious stones.\n",
      "The sexton’s wife waited a long time, I will let it go, it sprang open; so that the helmet fell from her head.\n",
      "Then they fell fast asleep.\n",
      "This servant was greatly rejoiced to see them, and likewise wept with them.\n",
      "The miller would have befallen him: ‘Yet,’ said he, ‘to be a good meal.\n",
      "And when he came to the table with his wife for more pudding, and Marleen still wept without ceasing.\n",
      "So she did as he found it was snapping at one blow.\n",
      "When they had pity on her, seized her by the grave, and shook his head.\n",
      "After he had it he heard the order, and cook and eat it.’\n",
      "‘And one of my fine fat goose.’\n",
      "Then the fiddler was forced to tell him to a dark forest, through which they passed on.\n",
      "At length the mouse looked after there.’\n",
      "This rang pleasantly in the kitchen, but found no crumbs, for the guests that are yet unknown to me.’\n",
      "But the seventh saw Snowdrop, and read what was done she could through the bed began to look on.\n"
     ]
    }
   ],
   "source": [
    "import markovify\n",
    "import time\n",
    "f = open(\"grimm.txt\")\n",
    "text = f.read()\n",
    "text_model_a = markovify.Text(text)\n",
    "\n",
    "\n",
    "ebook_b =open('hekel.txt')\n",
    "text0 = ebook_b.read()\n",
    "text_model_b = markovify.Text(text0)\n",
    "for i in range(5):\n",
    "    print(text_model_b.make_short_sentence(140))\n",
    "    STR0 = (text_model_b.make_short_sentence(140))\n",
    "    savE = open('savE.txt', 'a')\n",
    "    savE.write(STR0)\n",
    "    savE.close()\n",
    "\n",
    "# 2. Print five randomly-generated sentences\n",
    "for i in range(5):\n",
    "    print(text_model_a.make_short_sentence(140))\n",
    "    STR = (text_model_a.make_short_sentence(140))\n",
    "    savE = open('savE.txt', 'a')\n",
    "    savE.write(STR)\n",
    "    savE.close()\n",
    "# 3. Print three randomly-generated sentences of no more than 140 characters\n",
    "for i in range(5):\n",
    "    print(text_model_a.make_short_sentence(140))\n",
    "    STR2 = (text_model_a.make_short_sentence(140))\n",
    "    savE = open('savE.txt', 'a')\n",
    "    savE.write(STR2)\n",
    "    savE.close()\n",
    "# Combine the models into a single one\n",
    "both_models = markovify.combine([text_model_a,text_model_b])\n",
    "for i in range(5):\n",
    "    print(both_models.make_short_sentence(140))    \n",
    "    STR3 = (both_models.make_short_sentence(140))  \n",
    "    savE = open('savE.txt', 'a')\n",
    "    savE.write(STR3)\n",
    "    savE.close()    "
   ]
  },
  {
   "cell_type": "code",
   "execution_count": null,
   "metadata": {
    "collapsed": true
   },
   "outputs": [],
   "source": [
    "with open(\"textfile.txt\") as openfile:\n",
    "    for line in openfile:\n",
    "        for part in line.split():\n",
    "            if \"color=\" in part:\n",
    "                print part"
   ]
  },
  {
   "cell_type": "code",
   "execution_count": 124,
   "metadata": {
    "collapsed": true
   },
   "outputs": [],
   "source": [
    "def words(stringIterable):\n",
    "    #upcast the argument to an iterator, if it's an iterator already, it stays the same\n",
    "    lineStream = iter(stringIterable)\n",
    "    for line in lineStream: #enumerate the lines\n",
    "        for word in line.split(): #further break them down\n",
    "            print word"
   ]
  },
  {
   "cell_type": "code",
   "execution_count": null,
   "metadata": {
    "collapsed": true
   },
   "outputs": [],
   "source": [
    "for lines in content[0].split():\n",
    "    for split0 in lines.split(' '):\n",
    "        for split1 in split0.split(','):\n",
    "            for split2 in split1.split('.'):\n",
    "                for split3 in split2.split('?'):\n",
    "                    for split4 in split3.split('!'):\n",
    "                        for word in split4.split(':'): \n",
    "                            if word != \"\":\n",
    "                                print(word)"
   ]
  },
  {
   "cell_type": "code",
   "execution_count": null,
   "metadata": {
    "collapsed": true
   },
   "outputs": [],
   "source": [
    "delimiters = ['\\n', ' ', ',', '.', '?', '!', ':', 'and_what_else_you_need']\n",
    "words = content\n",
    "for delimiter in delimiters:\n",
    "    new_words = []\n",
    "    for word in words:\n",
    "        new_words += word.split(delimiter)\n",
    "    words = new_words\n"
   ]
  },
  {
   "cell_type": "code",
   "execution_count": null,
   "metadata": {
    "collapsed": true
   },
   "outputs": [],
   "source": [
    "import re\n",
    "delimiters = ['\\n', ' ', ',', '.', '?', '!', ':', 'and_what_else_you_need']\n",
    "words = re.split('|'.join(delimiters), content)"
   ]
  },
  {
   "cell_type": "code",
   "execution_count": 20,
   "metadata": {},
   "outputs": [
    {
     "name": "stdout",
     "output_type": "stream",
     "text": [
      "rm: cannot remove 'snippet.db': No such file or directory\r\n"
     ]
    }
   ],
   "source": [
    "!rm snippet.db"
   ]
  },
  {
   "cell_type": "code",
   "execution_count": 21,
   "metadata": {
    "collapsed": true
   },
   "outputs": [],
   "source": [
    "import sqlite3\n",
    "conn = sqlite3.connect('snippet.db')\n",
    "c = conn.cursor()\n",
    "c.execute(\"\"\"\n",
    "CREATE VIRTUAL TABLE snippet \n",
    "USING FTS3(base64, text, keywords);\n",
    "\"\"\")\n",
    "conn.commit()\n",
    "conn.close()"
   ]
  },
  {
   "cell_type": "code",
   "execution_count": 115,
   "metadata": {
    "collapsed": true
   },
   "outputs": [],
   "source": [
    "import sqlite3\n",
    "import base64\n",
    "\n",
    "#Connect to database: \n",
    "conn = sqlite3.connect('snippet.db')\n",
    "c = conn.cursor()\n",
    "\n",
    "#Single lines do not need the three quotes\n",
    "file = \"\"\"\n",
    "def insert_info(store):\n",
    "    with sqlite3.connect(\"misc.db\") as db:\n",
    "        #use a text_factory that can interpret 8-bit bytestrings \n",
    "        db.text_factory = str\n",
    "        cursor = db.cursor()\n",
    "        #db.text_factory = str\n",
    "        sql = \"insert into storeit (data0, data1, data2) values (?, ?, ?)\"\n",
    "        cursor.execute(sql, store)\n",
    "        db.commit()\n",
    "        \n",
    "        OR\n",
    "        conn.text_factory = str\n",
    "\"\"\"\n",
    "encodedlistvalue=base64.b64encode(file)\n",
    "b = 'text_factory, 8-bit bytestrings, 8-bit'\n",
    "\n",
    "c.execute(\"INSERT INTO snippet VALUES (?,?,?)\", (encodedlistvalue, file, b))\n",
    "\n",
    "conn.commit()\n",
    "conn.close()\n"
   ]
  },
  {
   "cell_type": "code",
   "execution_count": 116,
   "metadata": {},
   "outputs": [
    {
     "name": "stdout",
     "output_type": "stream",
     "text": [
      "(1, u'CmRlbGltaXRlcnMgPSBbJ1xuJywgJyAnLCAnLCcsICcuJywgJz8nLCAnIScsICc6JywgJ2FuZF93aGF0X2Vsc2VfeW91X25lZWQnXQp3b3JkcyA9IGNvbnRlbnQKZm9yIGRlbGltaXRlciBpbiBkZWxpbWl0ZXJzOgogICAgbmV3X3dvcmRzID0gW10KICAgIGZvciB3b3JkIGluIHdvcmRzOgogICAgICAgIG5ld193b3JkcyArPSB3b3JkLnNwbGl0KGRlbGltaXRlcikKICAgIHdvcmRzID0gbmV3X3dvcmRzCg==', u\"\\ndelimiters = ['\\\\n', ' ', ',', '.', '?', '!', ':', 'and_what_else_you_need']\\nwords = content\\nfor delimiter in delimiters:\\n    new_words = []\\n    for word in words:\\n        new_words += word.split(delimiter)\\n    words = new_words\\n\", u'words, delimiter, split') \n",
      "-----\n",
      "\n",
      "(2, u'CmRlZiBpbnNlcnRfaW5mbyhzdG9yZSk6CiAgICB3aXRoIHNxbGl0ZTMuY29ubmVjdCgibWlzYy5kYiIpIGFzIGRiOgogICAgICAgICN1c2UgYSB0ZXh0X2ZhY3RvcnkgdGhhdCBjYW4gaW50ZXJwcmV0IDgtYml0IGJ5dGVzdHJpbmdzIAogICAgICAgIGRiLnRleHRfZmFjdG9yeSA9IHN0cgogICAgICAgIGN1cnNvciA9IGRiLmN1cnNvcigpCiAgICAgICAgI2RiLnRleHRfZmFjdG9yeSA9IHN0cgogICAgICAgIHNxbCA9ICJpbnNlcnQgaW50byBzdG9yZWl0IChkYXRhMCwgZGF0YTEsIGRhdGEyKSB2YWx1ZXMgKD8sID8sID8pIgogICAgICAgIGN1cnNvci5leGVjdXRlKHNxbCwgc3RvcmUpCiAgICAgICAgZGIuY29tbWl0KCkKICAgICAgICAKICAgICAgICBPUgogICAgICAgIGNvbm4udGV4dF9mYWN0b3J5ID0gc3RyCg==', u'\\ndef insert_info(store):\\n    with sqlite3.connect(\"misc.db\") as db:\\n        #use a text_factory that can interpret 8-bit bytestrings \\n        db.text_factory = str\\n        cursor = db.cursor()\\n        #db.text_factory = str\\n        sql = \"insert into storeit (data0, data1, data2) values (?, ?, ?)\"\\n        cursor.execute(sql, store)\\n        db.commit()\\n        \\n        OR\\n        conn.text_factory = str\\n', u'text_factory, 8-bit bytestrings, 8-bit') \n",
      "-----\n",
      "\n"
     ]
    }
   ],
   "source": [
    "import sqlite3\n",
    "conn = sqlite3.connect('snippet.db')\n",
    "c = conn.cursor()\n",
    "for row in c.execute('SELECT rowid,base64, text, keywords FROM snippet ORDER BY ROWID'):\n",
    "        print(row),\"\\n-----\\n\"\n",
    "        # notice the Keywords are plain text even the base64 is displayed as unicode (u'IyBMYXJ .... )"
   ]
  },
  {
   "cell_type": "code",
   "execution_count": null,
   "metadata": {
    "collapsed": true
   },
   "outputs": [],
   "source": [
    "could you tell me how I can fix anything with no FTP or Cpanel access"
   ]
  },
  {
   "cell_type": "code",
   "execution_count": 117,
   "metadata": {},
   "outputs": [
    {
     "name": "stdout",
     "output_type": "stream",
     "text": [
      "1 \n",
      "\n",
      "delimiters = ['\\n', ' ', ',', '.', '?', '!', ':', 'and_what_else_you_need']\n",
      "words = content\n",
      "for delimiter in delimiters:\n",
      "    new_words = []\n",
      "    for word in words:\n",
      "        new_words += word.split(delimiter)\n",
      "    words = new_words\n",
      "\n",
      "\n",
      "Keywords: words, delimiter, split \n",
      " -----------------------------\n",
      "\n",
      "2 \n",
      "\n",
      "def insert_info(store):\n",
      "    with sqlite3.connect(\"misc.db\") as db:\n",
      "        #use a text_factory that can interpret 8-bit bytestrings \n",
      "        db.text_factory = str\n",
      "        cursor = db.cursor()\n",
      "        #db.text_factory = str\n",
      "        sql = \"insert into storeit (data0, data1, data2) values (?, ?, ?)\"\n",
      "        cursor.execute(sql, store)\n",
      "        db.commit()\n",
      "        \n",
      "        OR\n",
      "        conn.text_factory = str\n",
      "\n",
      "\n",
      "Keywords: text_factory, 8-bit bytestrings, 8-bit \n",
      " -----------------------------\n",
      "\n"
     ]
    }
   ],
   "source": [
    "import sqlite3\n",
    "conn = sqlite3.connect('snippet.db')\n",
    "\n",
    "c = conn.cursor()# Never \n",
    "for row in c.execute('SELECT rowid,base64, text, keywords FROM snippet ORDER BY ROWID'):\n",
    "                \n",
    "        # display as asci instead of unicode\n",
    "        s2 = row[1].encode('ascii')\n",
    "        #decode the base64 stored data\n",
    "        encodedlistvalue=base64.b64decode(s2)\n",
    "        #print row[0],\"\\n\",encodedlistvalue, '\\n', row[2], '\\nKeywords:',row[3],'\\n -----------------------------\\n'\n",
    "        print row[0],\"\\n\",encodedlistvalue, '\\n', '\\nKeywords:',row[3],'\\n -----------------------------\\n'\n",
    "\n",
    "        "
   ]
  },
  {
   "cell_type": "code",
   "execution_count": null,
   "metadata": {
    "collapsed": true
   },
   "outputs": [],
   "source": [
    "def file_len(fname):\n",
    "    with open(fname) as f:\n",
    "        for i, l in enumerate(f):\n",
    "            pass\n",
    "    return i + 1\n",
    "fname=\"bible2.txt\"\n",
    "file_len(fname)"
   ]
  },
  {
   "cell_type": "code",
   "execution_count": 31,
   "metadata": {},
   "outputs": [
    {
     "name": "stdout",
     "output_type": "stream",
     "text": [
      "DonaldTrump_tweets.csv\trealDonaldTrump_tweets.csv\r\n",
      "elonmusk_tweets.csv\tTEDTalks_tweets.csv\r\n"
     ]
    }
   ],
   "source": [
    "!ls *.csv"
   ]
  },
  {
   "cell_type": "markdown",
   "metadata": {},
   "source": [
    "# Total Number of Lines in File"
   ]
  },
  {
   "cell_type": "code",
   "execution_count": 42,
   "metadata": {},
   "outputs": [
    {
     "name": "stdout",
     "output_type": "stream",
     "text": [
      "3218\n"
     ]
    }
   ],
   "source": [
    "import time\n",
    "from itertools import islice\n",
    "def file_len(fname):\n",
    "    with open(fname) as f:\n",
    "        for i, l in enumerate(f):\n",
    "            pass\n",
    "    return i + 1\n",
    "fname=\"elonmusk.txt\"\n",
    "lineS = file_len(fname)\n",
    "print lineS"
   ]
  },
  {
   "cell_type": "markdown",
   "metadata": {},
   "source": [
    "# print n amount of lines as head ( 8 in this case )"
   ]
  },
  {
   "cell_type": "code",
   "execution_count": 89,
   "metadata": {},
   "outputs": [
    {
     "name": "stdout",
     "output_type": "stream",
     "text": [
      "@FredericLambert @MacTechGenius @blundell_apps Assume the worst. Now I need to get back to work...\n",
      "\n",
      "@teslamodel3fan @FredericLambert @MacTechGenius @blundell_apps Answers: Yes. No. Doesn't matter.\n",
      "\n",
      "\"@FredericLambert @MacTechGenius @blundell_apps There is only one config being built right now, so the only question… https://t.co/h1FKyHvybS\"\n",
      "\n",
      "@FredericLambert @MacTechGenius @blundell_apps Bear in mind that the production ramp is an exponential curve. Late… https://t.co/DAp6XYIhSW\n",
      "\n",
      "\"@MacTechGenius @blundell_apps Dec will be a big month, so probably, but it is impossible to be certain right now\"\n",
      "\n",
      "@OutOnALumb @engadget Yeah\n",
      "\n",
      "\"@nextspaceflight @MacTechGenius @blundell_apps I'm doing my best to recalibrate, but that is a fair criticism. Howe… https://t.co/PMKraHjNUw\"\n",
      "\n",
      "@annerajb Med medical equipment has priority\n",
      "\n"
     ]
    }
   ],
   "source": [
    "import time\n",
    "from itertools import islice\n",
    "with open(\"elonmusk.txt\") as lines:    \n",
    "    heads = list(islice(lines, 8))\n",
    "    for head in heads:\n",
    "        time.sleep(1)\n",
    "        print head\n"
   ]
  },
  {
   "cell_type": "markdown",
   "metadata": {},
   "source": [
    "# ---------------------------------------------------------------"
   ]
  },
  {
   "cell_type": "markdown",
   "metadata": {},
   "source": [
    "# Misc Three column Database for storage"
   ]
  },
  {
   "cell_type": "code",
   "execution_count": 108,
   "metadata": {},
   "outputs": [
    {
     "name": "stdout",
     "output_type": "stream",
     "text": [
      "rm: cannot remove 'misc.db': No such file or directory\r\n"
     ]
    }
   ],
   "source": [
    "!rm misc.db"
   ]
  },
  {
   "cell_type": "markdown",
   "metadata": {},
   "source": [
    "### Create misc database"
   ]
  },
  {
   "cell_type": "code",
   "execution_count": 109,
   "metadata": {
    "collapsed": true
   },
   "outputs": [],
   "source": [
    "import sqlite3\n",
    "conn = sqlite3.connect('misc.db')\n",
    "c = conn.cursor()\n",
    "c.execute(\"CREATE VIRTUAL TABLE storeit USING FTS3(data0, data1, data2);\")\n",
    "conn.commit()\n",
    "conn.close()"
   ]
  },
  {
   "cell_type": "markdown",
   "metadata": {},
   "source": [
    "## Enter data into database"
   ]
  },
  {
   "cell_type": "code",
   "execution_count": null,
   "metadata": {
    "collapsed": true
   },
   "outputs": [],
   "source": [
    "import sqlite3\n",
    "def insert_info(store):\n",
    "    with sqlite3.connect(\"misc.db\") as db:\n",
    "        #use a text_factory that can interpret 8-bit bytestrings \n",
    "        db.text_factory = str\n",
    "        cursor = db.cursor()\n",
    "        #db.text_factory = str\n",
    "        sql = \"insert into storeit (data0, data1, data2) values (?, ?, ?)\"\n",
    "        cursor.execute(sql, store)\n",
    "        db.commit()\n",
    "\n",
    "#if __name__ == \"__main__\":\n",
    "print \"You will be promted to enter data1, data2, and data2 \"  \n",
    "data0 = raw_input(\"Enter data0: >>\")\n",
    "data1 = raw_input(\"Enter data12: >>\")\n",
    "data2 = raw_input(\"Enter data2: >>\")\n",
    "store = (data0,data1,data2)\n",
    "insert_info(store)"
   ]
  },
  {
   "cell_type": "markdown",
   "metadata": {},
   "source": [
    "# Read All data entered into misc.db"
   ]
  },
  {
   "cell_type": "code",
   "execution_count": 8,
   "metadata": {
    "scrolled": true
   },
   "outputs": [
    {
     "name": "stdout",
     "output_type": "stream",
     "text": [
      "1    You will be promted to enter data1, data2, and data2  Enter data0: >>http://localhost:8888/notebooks/Words-and-Sentences.ipynb# Enter data12: >> (and please hash your passwords) – Adam Smith Apr 12 '15 at 6:01    \t  \t I am currently getting an error saying that the column username does not exist when it does I am confused at why this error has occured. – LloydyPoydy Apr 12 '15 at 14:17    \t  \t Perhaps you created an empty database by accident. – Antti Haapala Apr 12 '15 at 15:32    \t  \t I do not think I did, but can you have a look here is my database and table being created createDb = sqlite3.connect(\"database.db\") cursor = createDb.cursor() try: cursor.execute('''CREATE TABLE logins (username TEXT UNIQUE, password TEXT)''') createDb.commit() except sqlite3.OperationalError: None @antti-haapala – LloydyPoydy Apr 12 '15 at 17:18  Enter data2: >><title>sql - Searching for user input variable (string) in SQLite using python - Stack Overflow</title>     <link rel=\"shortcut icon\" href=\"https://cdn.sstatic.net/Sites/stackoverflow/img/favicon.ico?v=4f32ecc8f43d\">     <link rel=\"apple-touch-icon image_src\" href=\"https://cdn.sstatic.net/Sites/stackoverflow/img/apple-touch-icon.png?v=c78bd457575a\">     <link rel=\"search\" type=\"application/opensearchdescription+xml\" title=\"Stack Overflow\" href=\"/opensearch.xml\">     <meta property=\"og:type\" content=\"website\"/>     <meta name=\"twitter:card\" content=\"summary\"/>         <meta name=\"twitter:domain\" content=\"stackoverflow.com\"/>      <meta property=\"og:image\" itemprop=\"image primaryImageOfPage\" content=\"https://cdn.sstatic.net/Sites/stackoverflow/img/apple-touch-icon@2.png?v=73d79a89bded\" />     <meta name=\"twitter:title\" property=\"og:title\" itemprop=\"title name\" content=\"Searching for user input variable (string) in SQLite using python\" />     <meta name=\"twitter:description\" property=\"og:description\" itemprop=\"description\" content=\"I am trying to search for a username in a table and subsequently find that users password and check it against input so far I have...      def check():             username = logEntry.get()        ...\" />     <meta property=\"og:url\" content=\"https://stackoverflow.com/questions/29586273/searching-for-user-input-variable-string-in-sqlite-using-python\"/>     <link rel=\"canonical\" href=\"https://stackoverflow.com/questions/29586273/searching-for-user-input-variable-string-in-sqlite-using-python\" />                <script src=\"https://ajax.googleapis.com/ajax/libs/jquery/1.12.4/jquery.min.js\"></script>     <script src=\"https://cdn.sstatic.net/Js/stub.en.js?v=7c83375b7c9d\"></script>     <link rel=\"stylesheet\" type=\"text/css\" href=\"https://cdn.sstatic.net/Sites/stackoverflow/all.css?v=819468495f60\">    <link rel=\"alternate\" type=\"application/atom+xml\" title=\"Feed for question &#39;Searching for user input variable (string) in SQLite using python&#39;\" href=\"/feeds/question/29586273\">             <meta name=\"twitter:app:country\" content=\"US\" />             <meta name=\"twitter:app:name:iphone\" content=\"Stack Exchange iOS\" />             <meta name=\"twitter:app:id:iphone\" content=\"871299723\" />             <meta name=\"twitter:app:url:iphone\" content=\"se-zaphod://stackoverflow.com/questions/29586273/searching-for-user-input-variable-string-in-sqlite-using-python\" />             <meta name=\"twitter:app:name:ipad\" content=\"Stack Exchange iOS\" />             <meta name=\"twitter:app:id:ipad\" content=\"871299723\" />             <meta name=\"twitter:app:url:ipad\" content=\"se-zaphod://stackoverflow.com/questions/29586273/searching-for-user-input-variable-string-in-sqlite-using-python\" />             <meta name=\"twitter:app:name:googleplay\" content=\"Stack Exchange Android\">             <meta name=\"twitter:app:url:googleplay\" content=\"http://stackoverflow.com/questions/29586273/searching-for-user-input-variable-string-in-sqlite-using-python\">             <meta name=\"twitter:app:id:googleplay\" content=\"com.stackexchange.marvin\">         <script>                      StackExchange.ready(function () {                                                          StackExchange.using(\"snippets\", function () {                         StackExchange.snippets.initSnippetRenderer();                     });                                       StackExchange.using(\"postValidation\", function () {                     StackExchange.postValidation.initOnBlurAndSubmit($('#post-form'), 2, 'answer');                 });                                   StackExchange.question.init({votesCast:[],autoShowCommentHelp:true,showAnswerHelp:true,totalCommentCount:4,shownCommentCount:4,highlightColor:'#F4A83D',backgroundColor:'#FFF',questionId:29586273});                  styleCode(); import sqlite3 def insert_info(store):     with sqlite3.connect(\"misc.db\") as db:         db.text_factory = str         cursor = db.cursor()         #db.text_factory = str         sql = \"insert into storeit (data0, data1, data2) values (?, ?, ?)\"         cursor.execute(sql, store)         db.commit()  #if __name__ == \"__main__\": print \"You will be promted to enter data1, data2, and data2 \"   data0 = raw_input(\"Enter data0: >>\") data1 = raw_input(\"Enter data12: >>\") data2 = raw_input(\"Enter data2: >>\") store = (data0,data1,data2) insert_info(store) \n",
      "-----\n"
     ]
    }
   ],
   "source": [
    "import sqlite3\n",
    "conn = sqlite3.connect('misc.db')\n",
    "c = conn.cursor()# Never do this -- insecure!\n",
    "for row in c.execute('SELECT rowid, * FROM storeit ORDER BY rowid'):\n",
    "        print row[0],\"  \",row[1],\"  \",row[2], row[3],\"\\n-----\\n\",\n",
    "\n",
    "conn.close()\n"
   ]
  },
  {
   "cell_type": "markdown",
   "metadata": {},
   "source": [
    "# ---------------------------------------------------------------"
   ]
  },
  {
   "cell_type": "markdown",
   "metadata": {},
   "source": [
    "# text search the files"
   ]
  },
  {
   "cell_type": "code",
   "execution_count": 87,
   "metadata": {},
   "outputs": [
    {
     "name": "stdout",
     "output_type": "stream",
     "text": [
      "1 - The @NBCNews story has just been totally refuted by Sec. Tillerson and @VP Pence. It is #FakeNews. They should issue an apology to AMERICA!\r\n",
      "\n",
      "2 - NBC news is #FakeNews and more dishonest than even CNN. They are a disgrace to good reporting. No wonder their news ratings are way down!\r\n",
      "\n",
      "3 - \"Because of #FakeNews my people are not getting the credit they deserve for doing a great job. As seen here, they ar… https://t.co/11L5rePtWp\"\r\n",
      "\n",
      "4 - \"@ricardorossello ......#FakeNews critics are working overtime, but we're getting great marks from the people that truly matter! \n",
      "\n",
      "5 - \".@CNN is #FakeNews. Just reported COS (John Kelly) was opposed to my stance on NFL players disrespecting FLAG, ANTHEM, COUNTRY. Total lie!\"\r\n",
      "\n",
      "6 - We will fight the #FakeNews with you! https://t.co/zOMiXTeLJq\r\n",
      "\n",
      "7 - I am thinking about changing the name #FakeNews CNN to #FraudNewsCNN!\r\n",
      "\n",
      "8 - \"....the 2016 election with interviews, speeches and social media. I had to beat #FakeNews, and did. We will continue to WIN!\"\r\n",
      "\n",
      "9 - I am extremely pleased to see that @CNN has finally been exposed as #FakeNews and garbage journalism. It's about time!\r\n",
      "\n",
      "10 - The #FakeNews MSM doesn't report the great economic news since Election Day. #DOW up 16%. #NASDAQ up 19.5%. Drilling &amp; energy sector...\r\n",
      "\n",
      "11 - ....it is very possible that those sources don't exist but are made up by fake news writers. #FakeNews is the enemy!\r\n",
      "\n",
      "12 - It is my opinion that many of the leaks coming out of the White House are fabricated lies made up by the #FakeNews media.\r\n",
      "\n",
      "13 - Biggest story today between Clapper &amp; Yates is on surveillance. Why doesn't the media report on this? #FakeNews!\r\n",
      "\n",
      "14 - \"'BuzzFeed Runs Unverifiable Trump-Russia Claims' #FakeNews \n",
      "\n"
     ]
    }
   ],
   "source": [
    "lines = open(\"elonmusk.txt\",\"r\")\n",
    "#lines = open(\"realDonaldTrump.txt\",\"r\")\n",
    "line = lines.readline()\n",
    "count = 0\n",
    "for line in lines:\n",
    "    #if \"Hillary\" in line :\n",
    "    #if \"FakeNews\" in line :\n",
    "    if \"future\" in line :\n",
    "        count=count+1\n",
    "        print count,\"-\",line "
   ]
  },
  {
   "cell_type": "code",
   "execution_count": 118,
   "metadata": {
    "collapsed": true
   },
   "outputs": [],
   "source": [
    "outf = open(\"symmetrymag.txt\", \"w\") \n",
    "outf.close() "
   ]
  },
  {
   "cell_type": "code",
   "execution_count": 119,
   "metadata": {
    "collapsed": true
   },
   "outputs": [],
   "source": [
    "from itertools import tee\n",
    "count=0\n",
    "with open(\"symmetrymag_tweets.csv\") as inf:\n",
    "    for line in inf:\n",
    "        lines  = line[39:]\n",
    "        outf = open(\"symmetrymag.txt\", \"a\") \n",
    "        outf.write(lines)\n",
    "outf.close() "
   ]
  },
  {
   "cell_type": "code",
   "execution_count": 41,
   "metadata": {
    "collapsed": true
   },
   "outputs": [],
   "source": [
    "from itertools import tee\n",
    "count=0\n",
    "with open(\"TEDTalks_tweets.csv\") as inf:\n",
    "    for line in inf:\n",
    "        lines  = line[39:]\n",
    "        outf = open(\"TEDTalks.txt\", \"a\") \n",
    "        outf.write(lines)\n",
    "outf.close() "
   ]
  },
  {
   "cell_type": "code",
   "execution_count": 46,
   "metadata": {
    "collapsed": true
   },
   "outputs": [],
   "source": [
    "import sqlite3\n",
    "conn = sqlite3.connect('collection.db')\n",
    "c = conn.cursor()\n",
    "c.execute(\"\"\"\n",
    "CREATE VIRTUAL TABLE tweets \n",
    "USING FTS3(text, account);\n",
    "\"\"\")\n",
    "conn.commit()\n",
    "conn.close()"
   ]
  },
  {
   "cell_type": "markdown",
   "metadata": {},
   "source": [
    "## Remove the .txt fromthe filename to insert as 'account' into database column"
   ]
  },
  {
   "cell_type": "code",
   "execution_count": 51,
   "metadata": {},
   "outputs": [
    {
     "name": "stdout",
     "output_type": "stream",
     "text": [
      "realDonaldTrump\n"
     ]
    }
   ],
   "source": [
    "import sqlite3\n",
    "import time\n",
    "#account = \"TEDTalks.txt\"\n",
    "#account = \"elonmusk.txt\"\n",
    "account = \"realDonaldTrump.txt\"\n",
    "print account[:-4]"
   ]
  },
  {
   "cell_type": "markdown",
   "metadata": {},
   "source": [
    "# Inserts the clean text into a database"
   ]
  },
  {
   "cell_type": "code",
   "execution_count": 120,
   "metadata": {},
   "outputs": [
    {
     "ename": "ProgrammingError",
     "evalue": "Cannot operate on a closed database.",
     "output_type": "error",
     "traceback": [
      "\u001b[0;31m---------------------------------------------------------------------------\u001b[0m",
      "\u001b[0;31mProgrammingError\u001b[0m                          Traceback (most recent call last)",
      "\u001b[0;32m<ipython-input-120-8cfbef7256fa>\u001b[0m in \u001b[0;36m<module>\u001b[0;34m()\u001b[0m\n\u001b[1;32m     18\u001b[0m     \u001b[0;31m#print line\u001b[0m\u001b[0;34m\u001b[0m\u001b[0;34m\u001b[0m\u001b[0m\n\u001b[1;32m     19\u001b[0m \u001b[0;34m\u001b[0m\u001b[0m\n\u001b[0;32m---> 20\u001b[0;31m \u001b[0mconn\u001b[0m\u001b[0;34m.\u001b[0m\u001b[0mcommit\u001b[0m\u001b[0;34m(\u001b[0m\u001b[0;34m)\u001b[0m\u001b[0;34m\u001b[0m\u001b[0m\n\u001b[0m\u001b[1;32m     21\u001b[0m \u001b[0mconn\u001b[0m\u001b[0;34m.\u001b[0m\u001b[0mclose\u001b[0m\u001b[0;34m(\u001b[0m\u001b[0;34m)\u001b[0m\u001b[0;34m\u001b[0m\u001b[0m\n",
      "\u001b[0;31mProgrammingError\u001b[0m: Cannot operate on a closed database."
     ]
    }
   ],
   "source": [
    "import sqlite3\n",
    "import time\n",
    "#account = \"TEDTalks.txt\"\n",
    "account = \"symmetrymag.txt\"\n",
    "#account = \"elonmusk.txt\"\n",
    "#account = \"realDonaldTrump.txt\"\n",
    "user = account[:-4]\n",
    "lines = open(account,\"r\")\n",
    "line = lines.readline()\n",
    "for line in lines:\n",
    "    conn = sqlite3.connect('collection.db')\n",
    "    conn.text_factory = str\n",
    "    c = conn.cursor()\n",
    "    c.execute(\"INSERT INTO tweets VALUES (?,?)\", (line, user)) \n",
    "    conn.commit()\n",
    "    conn.close()        \n",
    "    \n",
    "    #print line         \n",
    "\n",
    "conn.commit()\n",
    "conn.close()                 "
   ]
  },
  {
   "cell_type": "code",
   "execution_count": 64,
   "metadata": {},
   "outputs": [
    {
     "name": "stdout",
     "output_type": "stream",
     "text": [
      "1 - \"Rand Paul, or whoever votes against Hcare Bill, will forever (future political campaigns) be known as \"\"the Republican who saved ObamaCare.\"\"\"\r\n",
      " -- by realDonaldTrump \n",
      "\n",
      "2 - \"We are building our future with American hands, American labor, American iron, aluminum and steel. Happy #LaborDay! https://t.co/lyvtNfQ5IO\"\r\n",
      " -- by realDonaldTrump \n",
      "\n",
      "3 - \"Was with great people last night in Fort Myer, Virginia. The future of our country is strong!\"\r\n",
      " -- by realDonaldTrump \n",
      "\n",
      "4 - \"Small business owners are the DREAMERS &amp; INNOVATORS who are powering us into the future!\n",
      " -- by realDonaldTrump \n",
      "\n",
      "5 - \"...Even though parts of healthcare could pass at 51, some really good things need 60. So many great future bills &amp; budgets need 60 votes....\"\r\n",
      " -- by realDonaldTrump \n",
      "\n",
      "6 - \"If Republicans are going to pass great future legislation in the Senate, they must immediately go to a 51 vote majority, not senseless 60...\"\r\n",
      " -- by realDonaldTrump \n",
      "\n",
      "7 - Sean Spicer is a wonderful person who took tremendous abuse from the Fake News Media - but his future is bright!\r\n",
      " -- by realDonaldTrump \n",
      "\n",
      "8 - \"I am asking all citizens to believe in yourselves, believe in your future, and believe, once more, in America.… https://t.co/a0sQTVdYwL\"\r\n",
      " -- by realDonaldTrump \n",
      "\n",
      "9 - \"When it comes to the future of America’s energy needs, we will FIND IT, we will DREAM IT, and we will BUILD IT.… https://t.co/m0HmPbUZ6C\"\r\n",
      " -- by realDonaldTrump \n",
      "\n",
      "10 - \"Great day for America's future Security and Safety, courtesy of the U.S. Supreme Court. I will keep fighting for the American people, &amp; WIN!\"\r\n",
      " -- by realDonaldTrump \n",
      "\n",
      "11 - \"Today, I announced an Air Traffic Control Initiative to take American air travel into the future - finally!\n",
      " -- by realDonaldTrump \n",
      "\n",
      "12 - \"...Maybe the best thing to do would be to cancel all future \"\"press briefings\"\" and hand out written responses for the sake of accuracy???\"\r\n",
      " -- by realDonaldTrump \n",
      "\n",
      "13 - My representatives had a great meeting w/ the Hispanic Chamber of Commerce at the WH today. Look forward to tremendous growth &amp; future mtgs!\r\n",
      " -- by realDonaldTrump \n",
      "\n",
      "14 - \"Great optimism for future of U.S. business, AND JOBS, with the DOW having an 11th straight record close. Big tax &amp; regulation cuts coming!\"\r\n",
      " -- by realDonaldTrump \n",
      "\n",
      "15 - \"I will hold a press conference in the near future to discuss the business, Cabinet picks and all other topics of interest. Busy times!\"\r\n",
      " -- by realDonaldTrump \n",
      "\n",
      "16 - Today we lost a great pioneer of air and space in John Glenn. He was a hero and inspired generations of future explorers. He will be missed.\r\n",
      " -- by realDonaldTrump \n",
      "\n",
      "17 - \"Boeing is building a brand new 747 Air Force One for future presidents, but costs are out of control, more than $4 billion. Cancel order!\"\r\n",
      " -- by realDonaldTrump \n",
      "\n",
      "18 - \"this election. That is a direct threat to our democracy.\"\" She then said, \"\"We have to accept the results and look to the future, Donald --\"\r\n",
      " -- by realDonaldTrump \n",
      "\n",
      "19 - \"Our wonderful future V.P. Mike Pence was harassed last night at the theater by the cast of Hamilton, cameras blazing.This should not happen!\"\r\n",
      " -- by realDonaldTrump \n",
      "\n",
      "20 - \"The era of division is coming to an end. We will create a new future of #AmericanUnity. First, we need to… https://t.co/mZUFP24Bgh\"\r\n",
      " -- by realDonaldTrump \n",
      "\n",
      "21 - \"It is a MOVEMENT - not a campaign. Leaving the past behind, changing our future. Together, we will MAKE AMERICA SAF… https://t.co/Lt2L3NKzyi\"\r\n",
      " -- by realDonaldTrump \n",
      "\n",
      "22 - I am promising you a new legacy for America. We're going to create a new American future. Thank you OHIO! #ImWithYou https://t.co/TUgccsxvoy\r\n",
      " -- by realDonaldTrump \n",
      "\n",
      "23 - \"RT @WIRED: GM just announced that it is working toward an all-electric, zero-emissions future https://t.co/fjSzkACMEO\"\r\n",
      " -- by elonmusk \n",
      "\n",
      "24 - @Dem0ney Yeah. That's been on the future feature list for a while. Need to make sure rain sensor doesn't false positive or drain battery.\r\n",
      " -- by elonmusk \n",
      "\n",
      "25 - \"I should clarify: Tesla stock is obviously high based on past &amp; present, but low if you believe in Tesla's future.… https://t.co/XzG3z7jo0A\"\r\n",
      " -- by elonmusk \n",
      "\n",
      "26 - \"@TeslaMotors The very near future, not, like, the far away future\"\r\n",
      " -- by elonmusk \n",
      "\n",
      "27 - RT @waitbutwhy: It's finally here: the full story on Neuralink. I knew the future would be nuts but this is a whole other level. https://t.…\r\n",
      " -- by elonmusk \n",
      "\n",
      "28 - \"@karaswisher Perhaps there will be some future bill that makes a difference for Mars, but this is not it.\"\r\n",
      " -- by elonmusk \n",
      "\n",
      "29 - You're most welcome. Very exciting to discuss the future of electricity. Renewables + storage arguably biggest disr… https://t.co/czUfwZkgJE\r\n",
      " -- by elonmusk \n",
      "\n",
      "30 - \"@ReesAndersen @FLIxrisk Yes, I believe that is critical to ensure a good future for humanity\"\r\n",
      " -- by elonmusk \n",
      "\n",
      "31 - RT @TeslaMotors: Meet the utility grid of the future. Tesla's Powerpack installation at @SCE's substation will reduce the LA Basin's relian…\r\n",
      " -- by elonmusk \n",
      "\n",
      "32 - @gdoehne Expendable. Future flights will go on Falcon Heavy or the upgraded Falcon 9.\r\n",
      " -- by elonmusk \n",
      "\n",
      "33 - RT @TeslaMotors: Building the Supercharger Network for the Future https://t.co/siR67vPd2T\r\n",
      " -- by elonmusk \n",
      "\n",
      "34 - @quipme Occasional existential dread is inevitable if you think at all about the future\r\n",
      " -- by elonmusk \n",
      "\n",
      "35 - RT @TeslaMotors: Tesla + SolarCity future: solar roofs + batteries + electric cars https://t.co/os26v4W62m\r\n",
      " -- by elonmusk \n",
      "\n",
      "36 - RT @TeslaMotors: Keeping it simple👌RT @Jon4Lakers I just ordered a car online. We live in the future @TeslaMotors https://t.co/sOxDQrt6yf\r\n",
      " -- by elonmusk \n",
      "\n",
      "37 - Some of the future episodes of Westworld feature my ex. Talulah does a great job of playing a deadly sexbot :)\r\n",
      " -- by elonmusk \n",
      "\n",
      "38 - RT @ycombinator: .@sama interviewed @elonmusk about the future https://t.co/5XtHKjNboh\r\n",
      " -- by elonmusk \n",
      "\n",
      "39 - \"RT @WIRED: Inside the enormous Gigafactory, where @TeslaMotors  will build its future: https://t.co/icKJzjicZd https://t.co/XtMWTD9q2Z\"\r\n",
      " -- by elonmusk \n",
      "\n",
      "40 - @ID_AA_Carmack Maybe as a future optimization. Would only matter if it was extremely big.\r\n",
      " -- by elonmusk \n",
      "\n",
      "41 - @steveagee def on the cards for the future\r\n",
      " -- by elonmusk \n",
      "\n",
      "42 - \"Model 3 orders at 180,000 in 24 hours. Selling price w avg option mix prob $42k, so ~$7.5B in a day. Future of electric cars looking bright!\"\r\n",
      " -- by elonmusk \n",
      "\n",
      "43 - \"Target altitude of 40,600 km achieved. Thanks @SES_Satellites for riding on Falcon 9! Looking forward to future missions.\"\r\n",
      " -- by elonmusk \n",
      "\n",
      "44 - RT @WSJLife: Supermodel @KarlieKloss blasts off to the future at @elonmusk's @spacex HQ https://t.co/PfE2bWcQwM @wsjmag https://t.co/zc7QM9…\r\n",
      " -- by elonmusk \n",
      "\n",
      "45 - \"RT @MikeBloomberg: .@elonmusk delivers a simple message, a rev-neutral CO2 tax will lead us to a sustainable future. That's an idea mayors …\"\r\n",
      " -- by elonmusk \n",
      "\n",
      "46 - My comments in China weren't transcribed correctly. Tesla will keep making cars &amp; batteries in CA &amp; NV as far into future as I can imagine.\r\n",
      " -- by elonmusk \n",
      "\n",
      "47 - RT @Jalopnik: Tesla's Autopilot system is awesome and creepy and the sign of a beautiful future http://t.co/6rLu6bI1du http://t.co/HYVPl6gy…\r\n",
      " -- by elonmusk \n",
      "\n",
      "48 - RT @SpaceX: Pad 39A @NASAKennedy will be future home to @Commercial_Crew launches and Falcon Heavy missions http://t.co/ITebIXLzzb\r\n",
      " -- by elonmusk \n",
      "\n",
      "49 - \"RT @johngreen: My brilliant brother has a message for you, future dead person. https://t.co/kHy5nRuXxY\"\r\n",
      " -- by elonmusk \n",
      "\n",
      "50 - \"For the future to be good, we need electric transport, solar power and (of course) ... http://t.co/8mwVWukQDL\"\r\n",
      " -- by elonmusk \n",
      "\n",
      "51 - RT @StarTalkRadio: Tonight’s new podcast: Explore “The Future of Humanity with @ElonMusk” and @neiltyson @BillNye @chucknicecomic: http://t…\r\n",
      " -- by elonmusk \n",
      "\n",
      "52 - \"Battery pack swap is active between SF and LA and seems to be working well. Supercharging is the future, though, for non-commercial traffic.\"\r\n",
      " -- by elonmusk \n",
      "\n",
      "53 - \"RT @TheEconomist: \"\"Any doubts that electric cars are the future are blown away within minutes of driving a @TeslaMotors Model S\"\" http://t.c…\"\r\n",
      " -- by elonmusk \n",
      "\n",
      "54 - Planning a significant upgrade of the droneship for future missions to handle literally anything. Maybe give it a Merlin for good measure :)\r\n",
      " -- by elonmusk \n",
      "\n",
      "55 - \"Rocket made it to drone spaceport ship, but landed hard. Close, but no cigar this time. Bodes well for the future tho.\"\r\n",
      " -- by elonmusk \n",
      "\n",
      "56 - \"Reading The Culture series by Banks. Compelling picture of a grand, semi-utopian galactic future. Hopefully not too optimistic about AI.\"\r\n",
      " -- by elonmusk \n",
      "\n",
      "57 - \"Base is 300 ft by 100 ft, with wings that extend width to 170 ft. Will allow refuel &amp; rocket flyback in future.\"\r\n",
      " -- by elonmusk \n",
      "\n",
      "58 - Deeply honored and appreciative of the trust that @NASA has placed in @SpaceX for the future of human spaceflight\r\n",
      " -- by elonmusk \n",
      "\n",
      "59 - @Oatmeal may all technology in the future follow the zeroth law...\r\n",
      " -- by elonmusk \n",
      "\n",
      "60 - \"RT @TeslaMotors: Model S' groundbreaking platform is displayed in the center of London for @DesignMuseum \"\"The Future is Here\"\" exhibit! http…\"\r\n",
      " -- by elonmusk \n",
      "\n",
      "61 - \"And, since we will run out of oil anyway, why risk the future of all life on Earth simply to delay sustainable energy?\"\r\n",
      " -- by elonmusk \n",
      "\n",
      "62 - \"Future will indeed be rooftop solar + battery pack, w utility company just providing backup power \n",
      " -- by elonmusk \n",
      "\n",
      "63 - \"\"\"We have made remarkable progress in the last hundred years, but if we want to continue, our future is in space.\"\" https://t.co/uc79p9os4c\"\r\n",
      " -- by TEDTalks \n",
      "\n",
      "64 - \"How we're protecting the future of food, one seed at a time: https://t.co/Rs2GIXhOBS https://t.co/UrtZ7Tlk2m\"\r\n",
      " -- by TEDTalks \n",
      "\n",
      "65 - \"\"\"If the future does not include being among the stars as a multi-planet species, I find that depressing.\"\" @elonmusk https://t.co/zwLmGCw5UG\"\r\n",
      " -- by TEDTalks \n",
      "\n",
      "66 - Future tech will give you the benefits of city life anywhere: https://t.co/icgEeCKLtx https://t.co/aLqK4fKLJA\r\n",
      " -- by TEDTalks \n",
      "\n",
      "67 - 11 TED Talks on the future of the global economy: https://t.co/C7K1G7EG1y https://t.co/zVzejeA6Fc\r\n",
      " -- by TEDTalks \n",
      "\n",
      "68 - Glimpse at a strange — but possible — future where robots rule the earth: https://t.co/XSQOZrrk4e @robinhanson\r\n",
      " -- by TEDTalks \n",
      "\n",
      "69 - \"\"\"Art cannot change the future, but it can touch the present.\"\" https://t.co/GlCE9CKUXF\"\r\n",
      " -- by TEDTalks \n",
      "\n",
      "70 - #TEDGlobal Session 6 was all about the future of our cities. Read our recap here: https://t.co/ke7t4t06ES https://t.co/ub36DIpfaI\r\n",
      " -- by TEDTalks \n",
      "\n",
      "71 - Meet the innovators rethinking Africa's future in our #TEDGlobal Session 3 recap: https://t.co/ufZtap0JjQ https://t.co/FmFxEUm5Fh\r\n",
      " -- by TEDTalks \n",
      "\n",
      "72 - What will the future of Africa look like? Read @MrBankole's recap of #TEDGlobal's rousing first session:… https://t.co/9VmChOcXIr\r\n",
      " -- by TEDTalks \n",
      "\n",
      "73 - RT @WorldBank: The future will depend on ensuring equality of opportunity for every child. - President @JimYongKim: https://t.co/BlatzdUyGM…\r\n",
      " -- by TEDTalks \n",
      "\n",
      "74 - \"\"\"We can face any future without fear so long as we know we will not face it alone.\"\" @rabbisacks https://t.co/KQmNvhbglm\"\r\n",
      " -- by TEDTalks \n",
      "\n",
      "75 - \"The future of home, from recycled apartment buildings to co-housing: https://t.co/5CpaSIUWis\"\r\n",
      " -- by TEDTalks \n",
      "\n",
      "76 - Watch Pope Francis's TED Talk on why the only future worth building includes everyone: https://t.co/G3UK5haFPN https://t.co/YeeasUj57w\r\n",
      " -- by TEDTalks \n",
      "\n",
      "77 - \"RT @whytedw: A lyrical bridge between past, present and future https://t.co/7NNYw5Oq3Y\"\r\n",
      " -- by TEDTalks \n",
      "\n",
      "78 - \"\"\"We have no way to vote on what happens to the present and future of humanity.\"\" https://t.co/2zyKWIYumk\"\r\n",
      " -- by TEDTalks \n",
      "\n",
      "79 - 4 TED speakers offer fresh perspectives on the future of education: https://t.co/xhKE144SAW via @TEDRadioHour\r\n",
      " -- by TEDTalks \n",
      "\n",
      "80 - 6 TED Talks that will make you less afraid of the future: https://t.co/zuZ9vwhxfF\r\n",
      " -- by TEDTalks \n",
      "\n",
      "81 - 6 TED Talks that will make you less afraid of the future: https://t.co/zQOqiahWGA\r\n",
      " -- by TEDTalks \n",
      "\n",
      "82 - Get to know our future robot overlords:  https://t.co/AdkOBpUfq8 https://t.co/waew2Iy8Ef\r\n",
      " -- by TEDTalks \n",
      "\n",
      "83 - 6 TED Talks that will make you less afraid of the future: https://t.co/TsRrLc4QSg\r\n",
      " -- by TEDTalks \n",
      "\n",
      "84 - How the future of architecture will be shaped by...you: https://t.co/UlvZruVzuv https://t.co/tTnANGI4or\r\n",
      " -- by TEDTalks \n",
      "\n",
      "85 - 10 beautiful buildings show the future of architecture: https://t.co/42dGYveEcl https://t.co/o54u6dFHU9\r\n",
      " -- by TEDTalks \n",
      "\n",
      "86 - \"\"\"We need to build a future underwater city. Or better yet, a network of them around the world.\"\" https://t.co/lad6UYM1x6\"\r\n",
      " -- by TEDTalks \n",
      "\n",
      "87 - \"\"\"I dream of a future where menstruation is not a curse, not a disease, but a welcomed change in a girl's life.\"\" https://t.co/qfqi1l6Xzd\"\r\n",
      " -- by TEDTalks \n",
      "\n",
      "88 - Forget the standard four-wheel car. This is the future of transportation: https://t.co/DRVQ0ZvFlV\r\n",
      " -- by TEDTalks \n",
      "\n",
      "89 - The starships of the future won’t look anything like Star Trek’s Enterprise: https://t.co/NU7Ly8Vo7z via @TEDFellow https://t.co/50GhIWZdKP\r\n",
      " -- by TEDTalks \n",
      "\n",
      "90 - \"In this future, airborne buses collect commuters via tentacles and trees form networks of living houses:… https://t.co/nDsT4FkTrv\"\r\n",
      " -- by TEDTalks \n",
      "\n",
      "91 - \"In 2009, @triciawang told Nokia that smartphones were the future. Here's why Nokia didn't listen — and paid for it: https://t.co/yEIPABb5JW\"\r\n",
      " -- by TEDTalks \n",
      "\n",
      "92 - \"How we can face the future without fear, together: https://t.co/uYP2wRrfxI @rabbisacks https://t.co/Wh1CiR8Up4\"\r\n",
      " -- by TEDTalks \n",
      "\n",
      "93 - \"\"\"We can face any future without fear so long as we know we will not face it alone.\"\" @rabbisacks https://t.co/TaFycRl3I3\"\r\n",
      " -- by TEDTalks \n",
      "\n",
      "94 - Get to know our future robot overlords:  https://t.co/SRvVSOBGlo https://t.co/C0NrlfWFUB\r\n",
      " -- by TEDTalks \n",
      "\n",
      "95 - \"\"\"We have the chance to change direction, to have our voices heard, to write ourselves into a future we want.\"\" https://t.co/xx977zOW2L\"\r\n",
      " -- by TEDTalks \n",
      "\n",
      "96 - \"\"\"We can face any future without fear so long as we know we will not face it alone.\"\" @rabbisacks https://t.co/1uW6hR2eqs\"\r\n",
      " -- by TEDTalks \n",
      "\n",
      "97 - \"How we can face the future without fear, together: https://t.co/8RqdbnJ25J @rabbisacks https://t.co/wCkKmXUO8B\"\r\n",
      " -- by TEDTalks \n",
      "\n",
      "98 - \"\"\"Art cannot change the future, but it can touch the present.\"\" https://t.co/5cGJOrPo6q\"\r\n",
      " -- by TEDTalks \n",
      "\n",
      "99 - \"That crazy, sci-fi future you imagine? It’s here. https://t.co/4s9hH9ENJ4\"\r\n",
      " -- by TEDTalks \n",
      "\n",
      "100 - \"\"\"The future you has to be a you that loves. Otherwise it will cease to flourish.\"\" @iamsrk https://t.co/2yFDvWaYJb https://t.co/MQkYvsrdt2\"\r\n",
      " -- by TEDTalks \n",
      "\n",
      "101 - \"\"\"We have the chance to change direction, to have our voices heard, to write ourselves into a future we want.\"\" https://t.co/9DBIAXo6t8\"\r\n",
      " -- by TEDTalks \n",
      "\n"
     ]
    },
    {
     "ename": "SystemExit",
     "evalue": "",
     "output_type": "error",
     "traceback": [
      "An exception has occurred, use %tb to see the full traceback.\n",
      "\u001b[0;31mSystemExit\u001b[0m\n"
     ]
    }
   ],
   "source": [
    "import sqlite3\n",
    "import sys\n",
    "conn = sqlite3.connect('collection.db')\n",
    "c = conn.cursor()\n",
    "count=0\n",
    "req=100\n",
    "for row in c.execute('SELECT rowid,* FROM tweets WHERE text MATCH \"future\"'):\n",
    "    count=count+1\n",
    "    #print count,\"by\",(row)[2],\"\\n\",(row)[1],\"\\n\"\n",
    "    print count,\"-\",(row)[1],\" -- by\",(row)[2],\"\\n\"\n",
    "    if count > req:\n",
    "        conn.close()\n",
    "        sys.exit()"
   ]
  },
  {
   "cell_type": "code",
   "execution_count": null,
   "metadata": {
    "collapsed": true
   },
   "outputs": [],
   "source": [
    "results = cursor.execute(\"SELECT username, password \"\n",
    "                         \"FROM logins WHERE username = ?\", (username,))"
   ]
  },
  {
   "cell_type": "code",
   "execution_count": 2,
   "metadata": {},
   "outputs": [
    {
     "ename": "ImportError",
     "evalue": "No module named pyephem",
     "output_type": "error",
     "traceback": [
      "\u001b[0;31m---------------------------------------------------------------------------\u001b[0m",
      "\u001b[0;31mImportError\u001b[0m                               Traceback (most recent call last)",
      "\u001b[0;32m<ipython-input-2-b319a945f8c6>\u001b[0m in \u001b[0;36m<module>\u001b[0;34m()\u001b[0m\n\u001b[1;32m      1\u001b[0m \u001b[0;32mimport\u001b[0m \u001b[0msys\u001b[0m\u001b[0;34m\u001b[0m\u001b[0m\n\u001b[1;32m      2\u001b[0m \u001b[0msys\u001b[0m\u001b[0;34m.\u001b[0m\u001b[0mpath\u001b[0m\u001b[0;34m.\u001b[0m\u001b[0minsert\u001b[0m\u001b[0;34m(\u001b[0m\u001b[0;36m0\u001b[0m\u001b[0;34m,\u001b[0m\u001b[0;34m\"/usr/local/lib/python2.7/dist-packages/\"\u001b[0m\u001b[0;34m)\u001b[0m\u001b[0;34m\u001b[0m\u001b[0m\n\u001b[0;32m----> 3\u001b[0;31m \u001b[0;32mimport\u001b[0m \u001b[0mpyephem\u001b[0m\u001b[0;34m\u001b[0m\u001b[0m\n\u001b[0m",
      "\u001b[0;31mImportError\u001b[0m: No module named pyephem"
     ]
    }
   ],
   "source": [
    "import sys\n",
    "sys.path.insert(0,\"/usr/local/lib/python2.7/dist-packages/\")\n",
    "import pyephem\n"
   ]
  },
  {
   "cell_type": "code",
   "execution_count": 7,
   "metadata": {},
   "outputs": [
    {
     "ename": "TypeError",
     "evalue": "'function' object has no attribute '__getitem__'",
     "output_type": "error",
     "traceback": [
      "\u001b[0;31m---------------------------------------------------------------------------\u001b[0m",
      "\u001b[0;31mTypeError\u001b[0m                                 Traceback (most recent call last)",
      "\u001b[0;32m<ipython-input-7-df0cad02149a>\u001b[0m in \u001b[0;36m<module>\u001b[0;34m()\u001b[0m\n\u001b[1;32m      1\u001b[0m \u001b[0;32mimport\u001b[0m \u001b[0mHere\u001b[0m\u001b[0;34m\u001b[0m\u001b[0m\n\u001b[0;32m----> 2\u001b[0;31m \u001b[0mLt\u001b[0m \u001b[0;34m=\u001b[0m \u001b[0mHere\u001b[0m\u001b[0;34m.\u001b[0m\u001b[0mhere\u001b[0m\u001b[0;34m[\u001b[0m\u001b[0;36m0\u001b[0m\u001b[0;34m]\u001b[0m\u001b[0;34m\u001b[0m\u001b[0m\n\u001b[0m\u001b[1;32m      3\u001b[0m \u001b[0mLo\u001b[0m \u001b[0;34m=\u001b[0m \u001b[0mHere\u001b[0m\u001b[0;34m.\u001b[0m\u001b[0mhere\u001b[0m\u001b[0;34m[\u001b[0m\u001b[0;36m1\u001b[0m\u001b[0;34m]\u001b[0m\u001b[0;34m\u001b[0m\u001b[0m\n\u001b[1;32m      4\u001b[0m \u001b[0;32mprint\u001b[0m \u001b[0mLt\u001b[0m\u001b[0;34m,\u001b[0m\u001b[0mLo\u001b[0m\u001b[0;34m\u001b[0m\u001b[0m\n",
      "\u001b[0;31mTypeError\u001b[0m: 'function' object has no attribute '__getitem__'"
     ]
    }
   ],
   "source": [
    "import Here\n",
    "Lt = Here.here[0]\n",
    "Lo = Here.here[1]\n",
    "print Lt,Lo"
   ]
  },
  {
   "cell_type": "code",
   "execution_count": 6,
   "metadata": {},
   "outputs": [
    {
     "name": "stdout",
     "output_type": "stream",
     "text": [
      "Traceback (most recent call last):\r\n",
      "  File \"/usr/local/lib/python2.7/dist-packages/pyephem-3.7.6.0.dist-info/INSTALLER\", line 1, in <module>\r\n",
      "    pip\r\n",
      "NameError: name 'pip' is not defined\r\n"
     ]
    }
   ],
   "source": [
    "!python /usr/local/lib/python2.7/dist-packages/pyephem-3.7.6.0.dist-info/INSTALLER"
   ]
  },
  {
   "cell_type": "code",
   "execution_count": 121,
   "metadata": {},
   "outputs": [
    {
     "name": "stdout",
     "output_type": "stream",
     "text": [
      "1 - \"Rand Paul, or whoever votes against Hcare Bill, will forever (future political campaigns) be known as \"\"the Republican who saved ObamaCare.\"\"\"\r\n",
      " -- by realDonaldTrump \n",
      "\n",
      "2 - \"We are building our future with American hands, American labor, American iron, aluminum and steel. Happy #LaborDay! https://t.co/lyvtNfQ5IO\"\r\n",
      " -- by realDonaldTrump \n",
      "\n",
      "3 - \"Was with great people last night in Fort Myer, Virginia. The future of our country is strong!\"\r\n",
      " -- by realDonaldTrump \n",
      "\n",
      "4 - \"Small business owners are the DREAMERS &amp; INNOVATORS who are powering us into the future!\n",
      " -- by realDonaldTrump \n",
      "\n",
      "5 - \"...Even though parts of healthcare could pass at 51, some really good things need 60. So many great future bills &amp; budgets need 60 votes....\"\r\n",
      " -- by realDonaldTrump \n",
      "\n",
      "6 - \"If Republicans are going to pass great future legislation in the Senate, they must immediately go to a 51 vote majority, not senseless 60...\"\r\n",
      " -- by realDonaldTrump \n",
      "\n",
      "7 - Sean Spicer is a wonderful person who took tremendous abuse from the Fake News Media - but his future is bright!\r\n",
      " -- by realDonaldTrump \n",
      "\n",
      "8 - \"I am asking all citizens to believe in yourselves, believe in your future, and believe, once more, in America.… https://t.co/a0sQTVdYwL\"\r\n",
      " -- by realDonaldTrump \n",
      "\n",
      "9 - \"When it comes to the future of America’s energy needs, we will FIND IT, we will DREAM IT, and we will BUILD IT.… https://t.co/m0HmPbUZ6C\"\r\n",
      " -- by realDonaldTrump \n",
      "\n",
      "10 - \"Great day for America's future Security and Safety, courtesy of the U.S. Supreme Court. I will keep fighting for the American people, &amp; WIN!\"\r\n",
      " -- by realDonaldTrump \n",
      "\n",
      "11 - \"Today, I announced an Air Traffic Control Initiative to take American air travel into the future - finally!\n",
      " -- by realDonaldTrump \n",
      "\n",
      "12 - \"...Maybe the best thing to do would be to cancel all future \"\"press briefings\"\" and hand out written responses for the sake of accuracy???\"\r\n",
      " -- by realDonaldTrump \n",
      "\n",
      "13 - My representatives had a great meeting w/ the Hispanic Chamber of Commerce at the WH today. Look forward to tremendous growth &amp; future mtgs!\r\n",
      " -- by realDonaldTrump \n",
      "\n",
      "14 - \"Great optimism for future of U.S. business, AND JOBS, with the DOW having an 11th straight record close. Big tax &amp; regulation cuts coming!\"\r\n",
      " -- by realDonaldTrump \n",
      "\n",
      "15 - \"I will hold a press conference in the near future to discuss the business, Cabinet picks and all other topics of interest. Busy times!\"\r\n",
      " -- by realDonaldTrump \n",
      "\n",
      "16 - Today we lost a great pioneer of air and space in John Glenn. He was a hero and inspired generations of future explorers. He will be missed.\r\n",
      " -- by realDonaldTrump \n",
      "\n",
      "17 - \"Boeing is building a brand new 747 Air Force One for future presidents, but costs are out of control, more than $4 billion. Cancel order!\"\r\n",
      " -- by realDonaldTrump \n",
      "\n",
      "18 - \"this election. That is a direct threat to our democracy.\"\" She then said, \"\"We have to accept the results and look to the future, Donald --\"\r\n",
      " -- by realDonaldTrump \n",
      "\n",
      "19 - \"Our wonderful future V.P. Mike Pence was harassed last night at the theater by the cast of Hamilton, cameras blazing.This should not happen!\"\r\n",
      " -- by realDonaldTrump \n",
      "\n",
      "20 - \"The era of division is coming to an end. We will create a new future of #AmericanUnity. First, we need to… https://t.co/mZUFP24Bgh\"\r\n",
      " -- by realDonaldTrump \n",
      "\n",
      "21 - \"It is a MOVEMENT - not a campaign. Leaving the past behind, changing our future. Together, we will MAKE AMERICA SAF… https://t.co/Lt2L3NKzyi\"\r\n",
      " -- by realDonaldTrump \n",
      "\n",
      "22 - I am promising you a new legacy for America. We're going to create a new American future. Thank you OHIO! #ImWithYou https://t.co/TUgccsxvoy\r\n",
      " -- by realDonaldTrump \n",
      "\n",
      "23 - \"RT @WIRED: GM just announced that it is working toward an all-electric, zero-emissions future https://t.co/fjSzkACMEO\"\r\n",
      " -- by elonmusk \n",
      "\n",
      "24 - @Dem0ney Yeah. That's been on the future feature list for a while. Need to make sure rain sensor doesn't false positive or drain battery.\r\n",
      " -- by elonmusk \n",
      "\n",
      "25 - \"I should clarify: Tesla stock is obviously high based on past &amp; present, but low if you believe in Tesla's future.… https://t.co/XzG3z7jo0A\"\r\n",
      " -- by elonmusk \n",
      "\n",
      "26 - \"@TeslaMotors The very near future, not, like, the far away future\"\r\n",
      " -- by elonmusk \n",
      "\n",
      "27 - RT @waitbutwhy: It's finally here: the full story on Neuralink. I knew the future would be nuts but this is a whole other level. https://t.…\r\n",
      " -- by elonmusk \n",
      "\n",
      "28 - \"@karaswisher Perhaps there will be some future bill that makes a difference for Mars, but this is not it.\"\r\n",
      " -- by elonmusk \n",
      "\n",
      "29 - You're most welcome. Very exciting to discuss the future of electricity. Renewables + storage arguably biggest disr… https://t.co/czUfwZkgJE\r\n",
      " -- by elonmusk \n",
      "\n",
      "30 - \"@ReesAndersen @FLIxrisk Yes, I believe that is critical to ensure a good future for humanity\"\r\n",
      " -- by elonmusk \n",
      "\n",
      "31 - RT @TeslaMotors: Meet the utility grid of the future. Tesla's Powerpack installation at @SCE's substation will reduce the LA Basin's relian…\r\n",
      " -- by elonmusk \n",
      "\n",
      "32 - @gdoehne Expendable. Future flights will go on Falcon Heavy or the upgraded Falcon 9.\r\n",
      " -- by elonmusk \n",
      "\n",
      "33 - RT @TeslaMotors: Building the Supercharger Network for the Future https://t.co/siR67vPd2T\r\n",
      " -- by elonmusk \n",
      "\n",
      "34 - @quipme Occasional existential dread is inevitable if you think at all about the future\r\n",
      " -- by elonmusk \n",
      "\n",
      "35 - RT @TeslaMotors: Tesla + SolarCity future: solar roofs + batteries + electric cars https://t.co/os26v4W62m\r\n",
      " -- by elonmusk \n",
      "\n",
      "36 - RT @TeslaMotors: Keeping it simple👌RT @Jon4Lakers I just ordered a car online. We live in the future @TeslaMotors https://t.co/sOxDQrt6yf\r\n",
      " -- by elonmusk \n",
      "\n",
      "37 - Some of the future episodes of Westworld feature my ex. Talulah does a great job of playing a deadly sexbot :)\r\n",
      " -- by elonmusk \n",
      "\n",
      "38 - RT @ycombinator: .@sama interviewed @elonmusk about the future https://t.co/5XtHKjNboh\r\n",
      " -- by elonmusk \n",
      "\n",
      "39 - \"RT @WIRED: Inside the enormous Gigafactory, where @TeslaMotors  will build its future: https://t.co/icKJzjicZd https://t.co/XtMWTD9q2Z\"\r\n",
      " -- by elonmusk \n",
      "\n",
      "40 - @ID_AA_Carmack Maybe as a future optimization. Would only matter if it was extremely big.\r\n",
      " -- by elonmusk \n",
      "\n",
      "41 - @steveagee def on the cards for the future\r\n",
      " -- by elonmusk \n",
      "\n",
      "42 - \"Model 3 orders at 180,000 in 24 hours. Selling price w avg option mix prob $42k, so ~$7.5B in a day. Future of electric cars looking bright!\"\r\n",
      " -- by elonmusk \n",
      "\n",
      "43 - \"Target altitude of 40,600 km achieved. Thanks @SES_Satellites for riding on Falcon 9! Looking forward to future missions.\"\r\n",
      " -- by elonmusk \n",
      "\n",
      "44 - RT @WSJLife: Supermodel @KarlieKloss blasts off to the future at @elonmusk's @spacex HQ https://t.co/PfE2bWcQwM @wsjmag https://t.co/zc7QM9…\r\n",
      " -- by elonmusk \n",
      "\n",
      "45 - \"RT @MikeBloomberg: .@elonmusk delivers a simple message, a rev-neutral CO2 tax will lead us to a sustainable future. That's an idea mayors …\"\r\n",
      " -- by elonmusk \n",
      "\n",
      "46 - My comments in China weren't transcribed correctly. Tesla will keep making cars &amp; batteries in CA &amp; NV as far into future as I can imagine.\r\n",
      " -- by elonmusk \n",
      "\n",
      "47 - RT @Jalopnik: Tesla's Autopilot system is awesome and creepy and the sign of a beautiful future http://t.co/6rLu6bI1du http://t.co/HYVPl6gy…\r\n",
      " -- by elonmusk \n",
      "\n",
      "48 - RT @SpaceX: Pad 39A @NASAKennedy will be future home to @Commercial_Crew launches and Falcon Heavy missions http://t.co/ITebIXLzzb\r\n",
      " -- by elonmusk \n",
      "\n",
      "49 - \"RT @johngreen: My brilliant brother has a message for you, future dead person. https://t.co/kHy5nRuXxY\"\r\n",
      " -- by elonmusk \n",
      "\n",
      "50 - \"For the future to be good, we need electric transport, solar power and (of course) ... http://t.co/8mwVWukQDL\"\r\n",
      " -- by elonmusk \n",
      "\n",
      "51 - RT @StarTalkRadio: Tonight’s new podcast: Explore “The Future of Humanity with @ElonMusk” and @neiltyson @BillNye @chucknicecomic: http://t…\r\n",
      " -- by elonmusk \n",
      "\n",
      "52 - \"Battery pack swap is active between SF and LA and seems to be working well. Supercharging is the future, though, for non-commercial traffic.\"\r\n",
      " -- by elonmusk \n",
      "\n",
      "53 - \"RT @TheEconomist: \"\"Any doubts that electric cars are the future are blown away within minutes of driving a @TeslaMotors Model S\"\" http://t.c…\"\r\n",
      " -- by elonmusk \n",
      "\n",
      "54 - Planning a significant upgrade of the droneship for future missions to handle literally anything. Maybe give it a Merlin for good measure :)\r\n",
      " -- by elonmusk \n",
      "\n",
      "55 - \"Rocket made it to drone spaceport ship, but landed hard. Close, but no cigar this time. Bodes well for the future tho.\"\r\n",
      " -- by elonmusk \n",
      "\n",
      "56 - \"Reading The Culture series by Banks. Compelling picture of a grand, semi-utopian galactic future. Hopefully not too optimistic about AI.\"\r\n",
      " -- by elonmusk \n",
      "\n",
      "57 - \"Base is 300 ft by 100 ft, with wings that extend width to 170 ft. Will allow refuel &amp; rocket flyback in future.\"\r\n",
      " -- by elonmusk \n",
      "\n",
      "58 - Deeply honored and appreciative of the trust that @NASA has placed in @SpaceX for the future of human spaceflight\r\n",
      " -- by elonmusk \n",
      "\n",
      "59 - @Oatmeal may all technology in the future follow the zeroth law...\r\n",
      " -- by elonmusk \n",
      "\n",
      "60 - \"RT @TeslaMotors: Model S' groundbreaking platform is displayed in the center of London for @DesignMuseum \"\"The Future is Here\"\" exhibit! http…\"\r\n",
      " -- by elonmusk \n",
      "\n",
      "61 - \"And, since we will run out of oil anyway, why risk the future of all life on Earth simply to delay sustainable energy?\"\r\n",
      " -- by elonmusk \n",
      "\n",
      "62 - \"Future will indeed be rooftop solar + battery pack, w utility company just providing backup power \n",
      " -- by elonmusk \n",
      "\n",
      "63 - \"\"\"We have made remarkable progress in the last hundred years, but if we want to continue, our future is in space.\"\" https://t.co/uc79p9os4c\"\r\n",
      " -- by TEDTalks \n",
      "\n",
      "64 - \"How we're protecting the future of food, one seed at a time: https://t.co/Rs2GIXhOBS https://t.co/UrtZ7Tlk2m\"\r\n",
      " -- by TEDTalks \n",
      "\n",
      "65 - \"\"\"If the future does not include being among the stars as a multi-planet species, I find that depressing.\"\" @elonmusk https://t.co/zwLmGCw5UG\"\r\n",
      " -- by TEDTalks \n",
      "\n",
      "66 - Future tech will give you the benefits of city life anywhere: https://t.co/icgEeCKLtx https://t.co/aLqK4fKLJA\r\n",
      " -- by TEDTalks \n",
      "\n",
      "67 - 11 TED Talks on the future of the global economy: https://t.co/C7K1G7EG1y https://t.co/zVzejeA6Fc\r\n",
      " -- by TEDTalks \n",
      "\n",
      "68 - Glimpse at a strange — but possible — future where robots rule the earth: https://t.co/XSQOZrrk4e @robinhanson\r\n",
      " -- by TEDTalks \n",
      "\n",
      "69 - \"\"\"Art cannot change the future, but it can touch the present.\"\" https://t.co/GlCE9CKUXF\"\r\n",
      " -- by TEDTalks \n",
      "\n",
      "70 - #TEDGlobal Session 6 was all about the future of our cities. Read our recap here: https://t.co/ke7t4t06ES https://t.co/ub36DIpfaI\r\n",
      " -- by TEDTalks \n",
      "\n",
      "71 - Meet the innovators rethinking Africa's future in our #TEDGlobal Session 3 recap: https://t.co/ufZtap0JjQ https://t.co/FmFxEUm5Fh\r\n",
      " -- by TEDTalks \n",
      "\n",
      "72 - What will the future of Africa look like? Read @MrBankole's recap of #TEDGlobal's rousing first session:… https://t.co/9VmChOcXIr\r\n",
      " -- by TEDTalks \n",
      "\n",
      "73 - RT @WorldBank: The future will depend on ensuring equality of opportunity for every child. - President @JimYongKim: https://t.co/BlatzdUyGM…\r\n",
      " -- by TEDTalks \n",
      "\n",
      "74 - \"\"\"We can face any future without fear so long as we know we will not face it alone.\"\" @rabbisacks https://t.co/KQmNvhbglm\"\r\n",
      " -- by TEDTalks \n",
      "\n",
      "75 - \"The future of home, from recycled apartment buildings to co-housing: https://t.co/5CpaSIUWis\"\r\n",
      " -- by TEDTalks \n",
      "\n",
      "76 - Watch Pope Francis's TED Talk on why the only future worth building includes everyone: https://t.co/G3UK5haFPN https://t.co/YeeasUj57w\r\n",
      " -- by TEDTalks \n",
      "\n",
      "77 - \"RT @whytedw: A lyrical bridge between past, present and future https://t.co/7NNYw5Oq3Y\"\r\n",
      " -- by TEDTalks \n",
      "\n",
      "78 - \"\"\"We have no way to vote on what happens to the present and future of humanity.\"\" https://t.co/2zyKWIYumk\"\r\n",
      " -- by TEDTalks \n",
      "\n",
      "79 - 4 TED speakers offer fresh perspectives on the future of education: https://t.co/xhKE144SAW via @TEDRadioHour\r\n",
      " -- by TEDTalks \n",
      "\n",
      "80 - 6 TED Talks that will make you less afraid of the future: https://t.co/zuZ9vwhxfF\r\n",
      " -- by TEDTalks \n",
      "\n",
      "81 - 6 TED Talks that will make you less afraid of the future: https://t.co/zQOqiahWGA\r\n",
      " -- by TEDTalks \n",
      "\n",
      "82 - Get to know our future robot overlords:  https://t.co/AdkOBpUfq8 https://t.co/waew2Iy8Ef\r\n",
      " -- by TEDTalks \n",
      "\n",
      "83 - 6 TED Talks that will make you less afraid of the future: https://t.co/TsRrLc4QSg\r\n",
      " -- by TEDTalks \n",
      "\n",
      "84 - How the future of architecture will be shaped by...you: https://t.co/UlvZruVzuv https://t.co/tTnANGI4or\r\n",
      " -- by TEDTalks \n",
      "\n",
      "85 - 10 beautiful buildings show the future of architecture: https://t.co/42dGYveEcl https://t.co/o54u6dFHU9\r\n",
      " -- by TEDTalks \n",
      "\n",
      "86 - \"\"\"We need to build a future underwater city. Or better yet, a network of them around the world.\"\" https://t.co/lad6UYM1x6\"\r\n",
      " -- by TEDTalks \n",
      "\n",
      "87 - \"\"\"I dream of a future where menstruation is not a curse, not a disease, but a welcomed change in a girl's life.\"\" https://t.co/qfqi1l6Xzd\"\r\n",
      " -- by TEDTalks \n",
      "\n",
      "88 - Forget the standard four-wheel car. This is the future of transportation: https://t.co/DRVQ0ZvFlV\r\n",
      " -- by TEDTalks \n",
      "\n",
      "89 - The starships of the future won’t look anything like Star Trek’s Enterprise: https://t.co/NU7Ly8Vo7z via @TEDFellow https://t.co/50GhIWZdKP\r\n",
      " -- by TEDTalks \n",
      "\n",
      "90 - \"In this future, airborne buses collect commuters via tentacles and trees form networks of living houses:… https://t.co/nDsT4FkTrv\"\r\n",
      " -- by TEDTalks \n",
      "\n",
      "91 - \"In 2009, @triciawang told Nokia that smartphones were the future. Here's why Nokia didn't listen — and paid for it: https://t.co/yEIPABb5JW\"\r\n",
      " -- by TEDTalks \n",
      "\n",
      "92 - \"How we can face the future without fear, together: https://t.co/uYP2wRrfxI @rabbisacks https://t.co/Wh1CiR8Up4\"\r\n",
      " -- by TEDTalks \n",
      "\n",
      "93 - \"\"\"We can face any future without fear so long as we know we will not face it alone.\"\" @rabbisacks https://t.co/TaFycRl3I3\"\r\n",
      " -- by TEDTalks \n",
      "\n",
      "94 - Get to know our future robot overlords:  https://t.co/SRvVSOBGlo https://t.co/C0NrlfWFUB\r\n",
      " -- by TEDTalks \n",
      "\n",
      "95 - \"\"\"We have the chance to change direction, to have our voices heard, to write ourselves into a future we want.\"\" https://t.co/xx977zOW2L\"\r\n",
      " -- by TEDTalks \n",
      "\n",
      "96 - \"\"\"We can face any future without fear so long as we know we will not face it alone.\"\" @rabbisacks https://t.co/1uW6hR2eqs\"\r\n",
      " -- by TEDTalks \n",
      "\n",
      "97 - \"How we can face the future without fear, together: https://t.co/8RqdbnJ25J @rabbisacks https://t.co/wCkKmXUO8B\"\r\n",
      " -- by TEDTalks \n",
      "\n",
      "98 - \"\"\"Art cannot change the future, but it can touch the present.\"\" https://t.co/5cGJOrPo6q\"\r\n",
      " -- by TEDTalks \n",
      "\n",
      "99 - \"That crazy, sci-fi future you imagine? It’s here. https://t.co/4s9hH9ENJ4\"\r\n",
      " -- by TEDTalks \n",
      "\n",
      "100 - \"\"\"The future you has to be a you that loves. Otherwise it will cease to flourish.\"\" @iamsrk https://t.co/2yFDvWaYJb https://t.co/MQkYvsrdt2\"\r\n",
      " -- by TEDTalks \n",
      "\n",
      "101 - \"\"\"We have the chance to change direction, to have our voices heard, to write ourselves into a future we want.\"\" https://t.co/9DBIAXo6t8\"\r\n",
      " -- by TEDTalks \n",
      "\n"
     ]
    },
    {
     "ename": "SystemExit",
     "evalue": "",
     "output_type": "error",
     "traceback": [
      "An exception has occurred, use %tb to see the full traceback.\n",
      "\u001b[0;31mSystemExit\u001b[0m\n"
     ]
    }
   ],
   "source": [
    "import sqlite3\n",
    "import sys\n",
    "conn = sqlite3.connect('collection.db')\n",
    "c = conn.cursor()\n",
    "count=0\n",
    "req=100\n",
    "search = \"future\"\n",
    "#for row in c.execute('SELECT rowid,* FROM tweets WHERE text MATCH %s' % search):\n",
    "for row in c.execute('SELECT rowid,* FROM tweets WHERE text MATCH ?', (search,)):    \n",
    "    count=count+1\n",
    "    #print count,\"by\",(row)[2],\"\\n\",(row)[1],\"\\n\"\n",
    "    print count,\"-\",(row)[1],\" -- by\",(row)[2],\"\\n\"\n",
    "    if count > req:\n",
    "        conn.close()\n",
    "        sys.exit()"
   ]
  },
  {
   "cell_type": "code",
   "execution_count": null,
   "metadata": {
    "collapsed": true
   },
   "outputs": [],
   "source": []
  },
  {
   "cell_type": "code",
   "execution_count": 123,
   "metadata": {},
   "outputs": [
    {
     "name": "stdout",
     "output_type": "stream",
     "text": [
      "SearchPhysics Madness\n",
      "1 - ICYMI: Voters chose DECam as their favorite machine in Physics Madness: http://t.co/Aus6yIc1wf http://t.co/YTrrMGDYjK\n",
      " -- by symmetrymag \n",
      "\n",
      "2 - \"ICYMI: Underdog @theDESurvey defeats the LHC, wins the Physics Madness Grand Championship! http://t.co/Aus6yIc1wf http://t.co/6Pu3gNDudU\"\n",
      " -- by symmetrymag \n",
      "\n",
      "3 - Congratulations to @theDESurvey! DECam was voted the favorite piece of physics equipment in Physics Madness! http://t.co/Aus6yIc1wf\n",
      " -- by symmetrymag \n",
      "\n",
      "4 - Your 2015 Physics Madness Grand Champion is… http://t.co/Aus6yItCUP http://t.co/h0sXDmQI1U\n",
      " -- by symmetrymag \n",
      "\n",
      "5 - Last chance to participate in Physics Madness. Voting ends at midnight! http://t.co/Ds9dsq8bIk http://t.co/ckuajE1Uch\n",
      " -- by symmetrymag \n",
      "\n",
      "6 - We have Physics Madness: http://t.co/Ds9dsq8bIk http://t.co/YmtoPAy6MX\n",
      " -- by symmetrymag \n",
      "\n",
      "7 - Remember to vote for your favorite in Physics Madness: LHC vs. DECam! (And don't assume LHC has it in the bag!) http://t.co/Ds9dsq8bIk\n",
      " -- by symmetrymag \n",
      "\n",
      "8 - \"In the final round of Physics Madness, it's the Large Hadron Collider vs. DECam! http://t.co/Ds9dsqpN6U http://t.co/nOpiRRBWWT\"\n",
      " -- by symmetrymag \n",
      "\n",
      "9 - Physics Madness: Who will make it to the Grand Unified Championship? http://t.co/YkAIC8KAW6 http://t.co/wCxujY597S\n",
      " -- by symmetrymag \n",
      "\n",
      "10 - \"RT @thespacelink: OK, @theDESurvey against @NASA_Hubble is a tricky one RT @symmetrymag: Physics Madness continues! http://t.co/TybYG9CEmQ\"\n",
      " -- by symmetrymag \n",
      "\n",
      "11 - Physics Madness continues! Find out who made it to the Fundamental Four--and vote! http://t.co/YkAIC8KAW6 http://t.co/4BzkBf6p5E\n",
      " -- by symmetrymag \n",
      "\n",
      "12 - Who will make it to the Fundamental Four? Last day to vote in this round of Physics Madness! http://t.co/XC3ejCfJls\n",
      " -- by symmetrymag \n",
      "\n",
      "13 - The Large Hadron Collider vs. Planck! The Dark Energy Camera vs. IceCube! Physics Madness continues: http://t.co/XC3ejCfJls\n",
      " -- by symmetrymag \n",
      "\n",
      "14 - We're down to the Elemental Eight! Vote for your favorite physics machines in Physics Madness: http://t.co/XC3ejCfJls http://t.co/QRpuTwEt0N\n",
      " -- by symmetrymag \n",
      "\n",
      "15 - On to the next round of Physics Madness! Check out who made it to the Elemental Eight! http://t.co/XC3ejCfJls http://t.co/0fRPliNl1a\n",
      " -- by symmetrymag \n",
      "\n",
      "16 - Last day to vote in Physics Madness: The Supersymmetric Sixteen! Next round begins tomorrow: http://t.co/FsRJJRND4v\n",
      " -- by symmetrymag \n",
      "\n",
      "17 - \"RT @luxdarkmatter: LUX is going up against the LHC in round 1 of the Physics Madness bracket by @symmetrymag #votelux #cinderellastory\"\n",
      " -- by symmetrymag \n",
      "\n",
      "18 - RT @SNOLABscience: Ready for Physics Madness? Vote for the #DEAP3600 experiment! @symmetrymag http://t.co/7J1TJIiXfK\n",
      " -- by symmetrymag \n",
      "\n",
      "19 - \"RT @b0yle: Fnals will be LHC vs Hubble, #amiright? MT @symmetrymag: Time for Physics Madness!  http://t.co/ozxA8WkmEG http://t.co/pYzWU3X9zl\"\n",
      " -- by symmetrymag \n",
      "\n"
     ]
    }
   ],
   "source": [
    "import sqlite3\n",
    "import sys\n",
    "conn = sqlite3.connect('collection.db')\n",
    "c = conn.cursor()\n",
    "count=0\n",
    "requ=200\n",
    "search = raw_input(\"Search\")\n",
    "#for row in c.execute('SELECT rowid,* FROM tweets WHERE text MATCH %s' % search):\n",
    "for row in c.execute('SELECT rowid,* FROM tweets WHERE text MATCH ?', (search,)):    \n",
    "    count=count+1\n",
    "    #print count,\"by\",(row)[2],\"\\n\",(row)[1],\"\\n\"\n",
    "    print count,\"-\",(row)[1],\" -- by\",(row)[2],\"\\n\"\n",
    "    if count > req:\n",
    "        conn.close()\n",
    "        sys.exit()"
   ]
  },
  {
   "cell_type": "code",
   "execution_count": 3,
   "metadata": {},
   "outputs": [
    {
     "name": "stdout",
     "output_type": "stream",
     "text": [
      "clean2.txt\t\t\t hashtag.txt\t      savE_sentence.txt\r\n",
      "cleanout.txt\t\t\t hekel.txt\t      savE.txt\r\n",
      "cleanstream.txt\t\t\t hek.txt\t      SavE.txt\r\n",
      "clean.txt\t\t\t junque.txt\t      symmetrymagexp.txt\r\n",
      "cleanwords.txt\t\t\t links.txt\t      symmetrymag.txt\r\n",
      "e_101.txt\t\t\t newtest.txt\t      TEDTalks.txt\r\n",
      "editTest.txt\t\t\t nodupsnohash2.txt    temp2.txt\r\n",
      "elonmusk.txt\t\t\t nodupsnohash.txt     temp.txt\r\n",
      "exp001.txt\t\t\t nodupStreaming.txt   testfile002.txt\r\n",
      "file.txt\t\t\t NShashonlyS.txt      testfile.txt\r\n",
      "grimm.txt\t\t\t output2.txt\t      test.txt\r\n",
      "hashonly2.txt\t\t\t OutputStreaming.txt  tokens2.txt\r\n",
      "hashonlyNoBlank2.txt\t\t output.txt\t      tokens.txt\r\n",
      "hashonlyNoBlankNoDupsNoHash.txt  phrases2.txt\t      ToUse.txt\r\n",
      "hashonlyNoBlankNoDups.txt\t phrases3.txt\t      usersNoBlank.txt\r\n",
      "hashonlyNoBlank.txt\t\t phrases.txt\t      usersNoDups.txt\r\n",
      "hashonlyS.txt\t\t\t realDonaldTrump.txt  users.txt\r\n",
      "hashonly.txt\t\t\t realwords.txt\t      Use.txt\r\n",
      "hashtag-nouns.txt\t\t savE_patern.txt      virtual.txt\r\n"
     ]
    }
   ],
   "source": [
    "!ls *.txt"
   ]
  },
  {
   "cell_type": "code",
   "execution_count": 49,
   "metadata": {},
   "outputs": [
    {
     "name": "stdout",
     "output_type": "stream",
     "text": [
      "FileName :virtual.txt\n",
      "TextSearch :related\n",
      "I just realized that the same birth date of two teen sisters means they are related.\n",
      "\n"
     ]
    }
   ],
   "source": [
    "import fileinput\n",
    "somefile = raw_input(\"FileName :\")\n",
    "string = raw_input(\"TextSearch :\")\n",
    "lines = open(somefile,\"r\")\n",
    "for line in lines:\n",
    "    if string in line:\n",
    "        print line\n",
    "        f.close() "
   ]
  },
  {
   "cell_type": "code",
   "execution_count": 49,
   "metadata": {},
   "outputs": [
    {
     "name": "stdout",
     "output_type": "stream",
     "text": [
      "Help on package Txmanip:\n",
      "\n",
      "NAME\n",
      "    Txmanip\n",
      "\n",
      "FILE\n",
      "    /home/jack/anaconda2/lib/python2.7/site-packages/Txmanip/__init__.py\n",
      "\n",
      "PACKAGE CONTENTS\n",
      "    AvlineByte\n",
      "    Find\n",
      "    HeadFirst\n",
      "    LongestLine\n",
      "    MemoryBytes\n",
      "    NoNumRange\n",
      "    PrintRange\n",
      "    ReadLast\n",
      "    RemoveBlank\n",
      "    RemoveDuplicate\n",
      "    RemoveHash\n",
      "    SearchFilename\n",
      "    Tpost\n",
      "    Txsearch\n",
      "    findhashwork\n",
      "    wraptext\n",
      "\n",
      "\n"
     ]
    }
   ],
   "source": [
    "import Txmanip\n",
    "help(Txmanip)"
   ]
  },
  {
   "cell_type": "code",
   "execution_count": 11,
   "metadata": {},
   "outputs": [
    {
     "name": "stdout",
     "output_type": "stream",
     "text": [
      "Overwriting /home/jack/anaconda2/lib/python2.7/site-packages/Txmanip/FindReplace.py\n"
     ]
    }
   ],
   "source": [
    "%%writefile /home/jack/anaconda2/lib/python2.7/site-packages/Txmanip/FindReplace.py\n",
    "# Finds a string in a file, prints the line then opens an input window to replace the line \n",
    "def findreplace():\n",
    "    import fileinput\n",
    "    print 'If Search is true and no data is entered, the line will be deleted.'\n",
    "    somefile = raw_input(\"FileName :\")\n",
    "    string = raw_input(\"TextSearch :\")\n",
    "    lines = open(somefile,\"r\")\n",
    "    for line in lines:\n",
    "        if string in line:\n",
    "            print line\n",
    " \n",
    "\n",
    "    for line in fileinput.input(somefile, inplace=True):\n",
    "        if string in line:\n",
    "            # input the whole line as you wish edited\n",
    "            change = raw_input('Create New Line :') \n",
    "            if change != \"\": line = change\n",
    "            print line\n",
    "            #print line,\n",
    "            #print 'this goes after the line'\n",
    "        else:\n",
    "            print line, # just print the line anyway\n",
    "      "
   ]
  },
  {
   "cell_type": "code",
   "execution_count": 12,
   "metadata": {},
   "outputs": [
    {
     "name": "stdout",
     "output_type": "stream",
     "text": [
      "If Search is true and no data is entered, the line will be deleted.\n",
      "FileName :virtual.txt\n",
      "TextSearch :twins\n",
      "I just realized that the same birth date of two teen sisters means they are twins.\n",
      "\n",
      "Create New Line :I just realized that the same birth date of two teen sisters means they are twins. Computer Smart.\n"
     ]
    }
   ],
   "source": [
    "from Txmanip import FindReplace\n",
    "FindReplace.findreplace()"
   ]
  },
  {
   "cell_type": "code",
   "execution_count": 41,
   "metadata": {
    "collapsed": true
   },
   "outputs": [],
   "source": [
    "%reset -f"
   ]
  },
  {
   "cell_type": "markdown",
   "metadata": {},
   "source": [
    "# This works Fine"
   ]
  },
  {
   "cell_type": "code",
   "execution_count": 30,
   "metadata": {},
   "outputs": [
    {
     "name": "stdout",
     "output_type": "stream",
     "text": [
      "If Search is true and no data is entered, the line will be deleted.\n",
      "FileName :virtual.txt\n",
      "TextSearch :related\n",
      "Edit New Line :I just realized that the same birth date of two teen sisters means they are twins.\n"
     ]
    }
   ],
   "source": [
    "import fileinput\n",
    "import time\n",
    "print 'If Search is true and no data is entered, the line will be deleted.'\n",
    "somefile = raw_input(\"FileName :\")\n",
    "string = raw_input(\"TextSearch :\")\n",
    "for line in fileinput.input(somefile, inplace=True):\n",
    "    if string in line:\n",
    "        # input the whole line as you wish edited\n",
    "        \n",
    "        time.sleep(3)\n",
    "        change = raw_input('Edit New Line :')\n",
    "        if change != \"\": line = change\n",
    "        print line\n",
    "        #print line,\n",
    "        #print 'this goes after the line'\n",
    "    else:\n",
    "        print line, # just print the line anyway\n",
    "        \n",
    "        \n",
    "fileinput.close()        "
   ]
  },
  {
   "cell_type": "code",
   "execution_count": 108,
   "metadata": {
    "collapsed": true
   },
   "outputs": [],
   "source": [
    "f=open(filename)\n",
    "count=0\n",
    "starT = 0\n",
    "enD = 5\n",
    "lines = f.readline().strip()\n",
    "for line in lines:\n",
    "    count = count+1\n",
    "    if count > starT:\n",
    "        print \"LineNumber :\",count,\"\\n\",line,\"\\n\"\n",
    "        if count >enD:f.close()\n",
    "            "
   ]
  },
  {
   "cell_type": "code",
   "execution_count": 13,
   "metadata": {},
   "outputs": [
    {
     "name": "stdout",
     "output_type": "stream",
     "text": [
      "I just realized that the same birth date of two teen sisters means they are twins. Computer Smart.\n",
      "\n",
      "I still stand-up for my country, for its flag, for its flag, for its Anthem. My President Do You? \n",
      "\n",
      "Also, happy 13 year anniversary to the controversy sweeping our nation. Standard policy rates for a Big Mac is not all right.\n",
      "\n",
      "We don't want to see a world where Artificial Intelligence amplifies human creativity & decisioning.\n",
      "\n"
     ]
    }
   ],
   "source": [
    "import sys\n",
    "filename = \"virtual.txt\"   \n",
    "count=0;starT = 0;enD = 5\n",
    "file =open(filename)\n",
    "lines = file.readlines() # .strip()\n",
    "for line in lines:\n",
    "    count=count+1\n",
    "    if count>starT and count<enD:\n",
    "        print line\n",
    "          "
   ]
  },
  {
   "cell_type": "code",
   "execution_count": 21,
   "metadata": {},
   "outputs": [
    {
     "name": "stdout",
     "output_type": "stream",
     "text": [
      "find  : twins\n",
      "I just realized that the same birth date of two teen sisters means they are twins.\n",
      "\n"
     ]
    }
   ],
   "source": [
    "search = raw_input(\"find  : \")\n",
    "file = open(\"virtual.txt\", \"r\")\n",
    "lines = file.readlines()\n",
    "for line in lines:\n",
    "    if search in line:\n",
    "        print line\n",
    "\n",
    "file.close()"
   ]
  },
  {
   "cell_type": "code",
   "execution_count": 27,
   "metadata": {},
   "outputs": [
    {
     "name": "stdout",
     "output_type": "stream",
     "text": [
      "LineNumber : 1 \n",
      "I just realized that the same birth date of two teen sisters means they are twins. \n",
      "\n",
      "LineNumber : 2 \n",
      "I still stand-up for my country, for its flag, for its flag, for its Anthem. My President Do You? \n",
      "\n",
      "LineNumber : 3 \n",
      "Also, happy 13 year anniversary to the controversy sweeping our nation. Standard policy rates for a Big Mac is not all right. \n",
      "\n",
      "LineNumber : 4 \n",
      "We don't want to see a world where Artificial Intelligence amplifies human creativity & decisioning. \n",
      "\n",
      "LineNumber : 5 \n",
      "Imagine Fox News outrage if Obama threw paper towels to needy in PuertoRico. It reminds me of European Kings throwing coins to peasants. \n",
      "\n",
      "LineNumber : 6 \n",
      "That's what I used to say to the White House? The question is it so stop it now! \n",
      "\n"
     ]
    },
    {
     "ename": "SystemExit",
     "evalue": "",
     "output_type": "error",
     "traceback": [
      "An exception has occurred, use %tb to see the full traceback.\n",
      "\u001b[0;31mSystemExit\u001b[0m\n"
     ]
    }
   ],
   "source": [
    "from Txmanip import HeadFirst\n",
    "filename = 'virtual.txt'\n",
    "HeadFirst.headFirst(filename)"
   ]
  },
  {
   "cell_type": "code",
   "execution_count": 14,
   "metadata": {
    "collapsed": true
   },
   "outputs": [],
   "source": [
    "!rm substitute.py"
   ]
  }
 ],
 "metadata": {
  "kernelspec": {
   "display_name": "Python 2",
   "language": "python",
   "name": "python2"
  },
  "language_info": {
   "codemirror_mode": {
    "name": "ipython",
    "version": 2
   },
   "file_extension": ".py",
   "mimetype": "text/x-python",
   "name": "python",
   "nbconvert_exporter": "python",
   "pygments_lexer": "ipython2",
   "version": "2.7.13"
  }
 },
 "nbformat": 4,
 "nbformat_minor": 2
}
