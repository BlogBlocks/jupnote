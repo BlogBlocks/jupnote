{
 "cells": [
  {
   "cell_type": "markdown",
   "metadata": {},
   "source": [
    "# Create Key.py nice secure way to use a Twitter API"
   ]
  },
  {
   "cell_type": "code",
   "execution_count": 8,
   "metadata": {},
   "outputs": [
    {
     "name": "stdout",
     "output_type": "stream",
     "text": [
      "Writing Key.py\n"
     ]
    }
   ],
   "source": [
    "%%writefile Key.py\n",
    "def twiter():\n",
    "    CONSUMER_KEY = 'WWWWWWWWWWWWWWWW'\n",
    "    CONSUMER_SECRET = 'XXXXXXXXXXXXXXXXX'\n",
    "    ACCESS_KEY = 'YYYYYYYYYYYYYYYYYYY'\n",
    "    ACCESS_SECRET = 'ZZZZZZZZZZZZZZZZ'\n",
    "    twir = (CONSUMER_KEY, CONSUMER_SECRET, ACCESS_KEY, ACCESS_SECRET)\n",
    "    return twir"
   ]
  },
  {
   "cell_type": "markdown",
   "metadata": {
    "collapsed": true
   },
   "source": [
    "# Test your key"
   ]
  },
  {
   "cell_type": "code",
   "execution_count": null,
   "metadata": {
    "collapsed": true
   },
   "outputs": [],
   "source": [
    "import sys\n",
    "import Key\n",
    "consumer_key = Key.twiter()[0]\n",
    "consumer_secret = Key.twiter()[1]\n",
    "access_key = Key.twiter()[2]\n",
    "access_secret = Key.twiter()[3]\n",
    "print consumer_key, consumer_secret, access_key, access_secret\n"
   ]
  },
  {
   "cell_type": "markdown",
   "metadata": {
    "collapsed": true
   },
   "source": [
    "# Gather Tweets from a User \n",
    "It can easily be 3,000 plus"
   ]
  },
  {
   "cell_type": "code",
   "execution_count": null,
   "metadata": {
    "collapsed": true
   },
   "outputs": [],
   "source": [
    "#!/usr/bin/env python\n",
    "# encoding: utf-8\n",
    "\n",
    "import tweepy #https://github.com/tweepy/tweepy\n",
    "import csv\n",
    "import sys\n",
    "sys.path.insert(0,\"/home/jack/anaconda2/envs/py27/lib/python2.7/site-packages\")\n",
    "import Key\n",
    "from random import randint\n",
    "\n",
    "#Twitter API credentials\n",
    "consumer_key = Key.twiter()[0]\n",
    "consumer_secret = Key.twiter()[1]\n",
    "access_key = Key.twiter()[2]\n",
    "access_secret = Key.twiter()[3]\n",
    "\n",
    "def get_all_tweets(screen_name):\n",
    "\t#Twitter only allows access to a users most recent 3240 tweets with this method\n",
    "\t\n",
    "\t#authorize twitter, initialize tweepy\n",
    "\tauth = tweepy.OAuthHandler(consumer_key, consumer_secret)\n",
    "\tauth.set_access_token(access_key, access_secret)\n",
    "\tapi = tweepy.API(auth)\n",
    "\t\n",
    "\t#initialize a list to hold all the tweepy Tweets\n",
    "\talltweets = []\t\n",
    "\t\n",
    "\t#make initial request for most recent tweets (200 is the maximum allowed count)\n",
    "\tnew_tweets = api.user_timeline(screen_name = screen_name,count=200)\n",
    "\t\n",
    "\t#save most recent tweets\n",
    "\talltweets.extend(new_tweets)\n",
    "\t\n",
    "\t#save the id of the oldest tweet less one\n",
    "\toldest = alltweets[-1].id - 1\n",
    "\t\n",
    "\t#keep grabbing tweets until there are no tweets left to grab\n",
    "\twhile len(new_tweets) > 0:\n",
    "\t\tprint \"getting tweets before %s\" % (oldest)\n",
    "\t\t\n",
    "\t\t#all subsiquent requests use the max_id param to prevent duplicates\n",
    "\t\tnew_tweets = api.user_timeline(screen_name = screen_name,count=200,max_id=oldest)\n",
    "\t\t\n",
    "\t\t#save most recent tweets\n",
    "\t\talltweets.extend(new_tweets)\n",
    "\t\t\n",
    "\t\t#update the id of the oldest tweet less one\n",
    "\t\toldest = alltweets[-1].id - 1\n",
    "\t\t\n",
    "\t\tprint \"...%s tweets downloaded so far\" % (len(alltweets))\n",
    "\t\n",
    "\t#transform the tweepy tweets into a 2D array that will populate the csv\t\n",
    "\touttweets = [[tweet.id_str, tweet.created_at, tweet.text.encode(\"utf-8\")] for tweet in alltweets]\n",
    "\t\n",
    "\t#write the csv\t\n",
    "\twith open('%s_tweets.csv' % screen_name, 'wb') as f:\n",
    "\t\twriter = csv.writer(f)\n",
    "\t\twriter.writerow([\"id\",\"created_at\",\"text\"])\n",
    "\t\twriter.writerows(outtweets)\n",
    "\t\n",
    "\tpass\n",
    "\n",
    "\n",
    "if __name__ == '__main__':\n",
    "    USER = raw_input(\"User  : \") or \"CNN\"\n",
    "    \n",
    "    get_all_tweets(USER)"
   ]
  },
  {
   "cell_type": "markdown",
   "metadata": {
    "collapsed": true
   },
   "source": [
    "# Cleanup the CSV file before entering inthe DataBase"
   ]
  },
  {
   "cell_type": "code",
   "execution_count": 3,
   "metadata": {},
   "outputs": [
    {
     "name": "stdout",
     "output_type": "stream",
     "text": [
      "DailyPythonTips_tweets.csv  importpython_tweets.csv  realDonaldTrump_tweets.csv\r\n",
      "DonaldTrump_tweets.csv\t    pythonbot__tweets.csv    symmetrymag_tweets.csv\r\n",
      "elonmusk_tweets.csv\t    PythonRR_tweets.csv      TEDTalks_tweets.csv\r\n"
     ]
    }
   ],
   "source": [
    "!ls *.csv"
   ]
  },
  {
   "cell_type": "code",
   "execution_count": 4,
   "metadata": {
    "collapsed": true
   },
   "outputs": [],
   "source": [
    "from itertools import tee\n",
    "count=0\n",
    "with open(\"importpython_tweets.csv\") as inf:\n",
    "    for line in inf:\n",
    "        lines  = line[39:]\n",
    "        outf = open(\"importpython.txt\", \"a\") \n",
    "        outf.write(lines)\n",
    "outf.close() "
   ]
  },
  {
   "cell_type": "markdown",
   "metadata": {},
   "source": [
    "# Search your newly created symmetrymag.txt"
   ]
  },
  {
   "cell_type": "code",
   "execution_count": 5,
   "metadata": {},
   "outputs": [
    {
     "name": "stdout",
     "output_type": "stream",
     "text": [
      "find  technology\n",
      "\"RT @anandology: I'm giving a talk on \"\"Generators in Python 3\"\" at mumbai technology meetup via hangout at 4PM today. \n",
      "\n"
     ]
    }
   ],
   "source": [
    "search = raw_input(\"find  \")\n",
    "file = open(\"importpython.txt\")\n",
    "lines = file.readlines()\n",
    "for line in lines:\n",
    "    if search in line:\n",
    "        print line\n",
    "    if search == True:\n",
    "        print line\n",
    "        file.close()\n",
    "        exit()\n",
    "file.close()"
   ]
  },
  {
   "cell_type": "markdown",
   "metadata": {},
   "source": [
    "# Create a Database and Tables \n",
    "# Using FTS3 - full text search"
   ]
  },
  {
   "cell_type": "code",
   "execution_count": null,
   "metadata": {
    "collapsed": true
   },
   "outputs": [],
   "source": [
    "import sqlite3\n",
    "conn = sqlite3.connect('collection.db')\n",
    "c = conn.cursor()\n",
    "c.execute(\"\"\"\n",
    "CREATE VIRTUAL TABLE tweets \n",
    "USING FTS3(text, account);\n",
    "\"\"\")\n",
    "conn.commit()\n",
    "conn.close()"
   ]
  },
  {
   "cell_type": "markdown",
   "metadata": {
    "collapsed": true
   },
   "source": [
    "# Enter Data from a File into a Database"
   ]
  },
  {
   "cell_type": "code",
   "execution_count": 6,
   "metadata": {},
   "outputs": [
    {
     "ename": "ProgrammingError",
     "evalue": "Cannot operate on a closed database.",
     "output_type": "error",
     "traceback": [
      "\u001b[0;31m---------------------------------------------------------------------------\u001b[0m",
      "\u001b[0;31mProgrammingError\u001b[0m                          Traceback (most recent call last)",
      "\u001b[0;32m<ipython-input-6-eb6dfc1fb970>\u001b[0m in \u001b[0;36m<module>\u001b[0;34m()\u001b[0m\n\u001b[1;32m     18\u001b[0m     \u001b[0;31m#print line\u001b[0m\u001b[0;34m\u001b[0m\u001b[0;34m\u001b[0m\u001b[0m\n\u001b[1;32m     19\u001b[0m \u001b[0;34m\u001b[0m\u001b[0m\n\u001b[0;32m---> 20\u001b[0;31m \u001b[0mconn\u001b[0m\u001b[0;34m.\u001b[0m\u001b[0mcommit\u001b[0m\u001b[0;34m(\u001b[0m\u001b[0;34m)\u001b[0m\u001b[0;34m\u001b[0m\u001b[0m\n\u001b[0m\u001b[1;32m     21\u001b[0m \u001b[0mconn\u001b[0m\u001b[0;34m.\u001b[0m\u001b[0mclose\u001b[0m\u001b[0;34m(\u001b[0m\u001b[0;34m)\u001b[0m\u001b[0;34m\u001b[0m\u001b[0m\n",
      "\u001b[0;31mProgrammingError\u001b[0m: Cannot operate on a closed database."
     ]
    }
   ],
   "source": [
    "import sqlite3\n",
    "import time\n",
    "#account = \"TEDTalks.txt\"\n",
    "account = \"importpython.txt\"\n",
    "#account = \"elonmusk.txt\"\n",
    "#account = \"realDonaldTrump.txt\"\n",
    "user = account[:-4]\n",
    "lines = open(account,\"r\")\n",
    "line = lines.readline()\n",
    "for line in lines:\n",
    "    conn = sqlite3.connect('collection.db')\n",
    "    # ProgrammingError: You must not use 8-bit bytestrings \n",
    "    # unless you use a text_factory \n",
    "    conn.text_factory = str\n",
    "    c = conn.cursor()\n",
    "    c.execute(\"INSERT INTO tweets VALUES (?,?)\", (line, user)) \n",
    "    conn.commit()\n",
    "    conn.close()        \n",
    "    \n",
    "    #print line         \n",
    "\n",
    "conn.commit()\n",
    "conn.close()                 "
   ]
  },
  {
   "cell_type": "markdown",
   "metadata": {},
   "source": [
    "# Searching and Reading the Twitter Database"
   ]
  },
  {
   "cell_type": "code",
   "execution_count": 11,
   "metadata": {
    "scrolled": false
   },
   "outputs": [
    {
     "name": "stdout",
     "output_type": "stream",
     "text": [
      "Search : Flight\n",
      "1 - \"...to terrorism and airline flight safety. Humanitarian reasons, plus I want Russia to greatly step up their fight against ISIS &amp; terrorism.\"\n",
      " -- by realDonaldTrump \n",
      "\n",
      "2 - \"@ClovenLife No, but shielding got fragged every flight. More control authority is for Falcon Heavy, but also enable… https://t.co/mWpvc3JVXK\"\n",
      " -- by elonmusk \n",
      "\n",
      "3 - RT @SpaceX: Quick video recap of Falcon 9 launch of Inmarsat-5 Flight 4 https://t.co/W8eVUEsH6r\n",
      " -- by elonmusk \n",
      "\n",
      "4 - @Cardoso Silliest thing we can imagine! Secret payload of 1st Dragon flight was a giant wheel of cheese. Inspired b… https://t.co/68nMJkiPsC\n",
      " -- by elonmusk \n",
      "\n",
      "5 - Falcon Heavy test flight currently scheduled for late summer\n",
      " -- by elonmusk \n",
      "\n",
      "6 - \"Considering trying to bring upper stage back on Falcon Heavy demo flight for full reusability. Odds of success low, but maybe worth a shot.\"\n",
      " -- by elonmusk \n",
      "\n",
      "7 - Here is the latest SpaceX travel ad for the flight around the moon &amp; into deep space. Maybe needs a few edits ... https://t.co/mA8ZgutrbE\n",
      " -- by elonmusk \n",
      "\n",
      "8 - \"If this is the only issue, flight would be fine, but need to make sure that it isn't symptomatic of a more significant upstream root cause\"\n",
      " -- by elonmusk \n",
      "\n",
      "9 - Daylight rocket launch &amp; landing at the Cape this weekend. Will be the 1st SpaceX flight from the Apollo launch pad. https://t.co/Vr5LQjYaPZ\n",
      " -- by elonmusk \n",
      "\n",
      "10 - RT @Hyperloop: Watchlive now at https://t.co/CoIedEujWn as WARR Hyperloop team attempts their first flight in the @SpaceX Hyperloop test tr…\n",
      " -- by elonmusk \n",
      "\n",
      "11 - Thanks for the longstanding faith in SpaceX. We very much look forward to doing this milestone flight with you. https://t.co/U2UFez0OhY\n",
      " -- by elonmusk \n",
      "\n",
      "12 - \"@SpaceX There was a tiny glitch in the motion of an upper stage engine actuator. Probably not a flight risk, but still worth investigating.\"\n",
      " -- by elonmusk \n",
      "\n",
      "13 - \"@SchaFFFFFF Flight 24 is def capable of flying again, but it makes sense to apply ground delta qual to rocket w toughest entry conditions.\"\n",
      " -- by elonmusk \n",
      "\n",
      "14 - \"Yeah, this was a three engine landing burn, so triple deceleration of last flight. That's important to minimize gravity losses.\"\n",
      " -- by elonmusk \n",
      "\n",
      "15 - F9 thrust at liftoff will be raised to 1.71M lbf later this year. It is capable of 1.9M lbf in flight.\n",
      " -- by elonmusk \n",
      "\n",
      "16 - Dragon 2 is designed to be able to land anywhere in the solar system. Red Dragon Mars mission is the first test flight.\n",
      " -- by elonmusk \n",
      "\n",
      "17 - \"Rocket landed hard on the droneship. Didn't expect this one to work (v hot reentry), but next flight has a good chance.\"\n",
      " -- by elonmusk \n",
      "\n",
      "18 - Rounding up to 1 sec for a bit of timing margin. Updating flight computer command sequence …\n",
      " -- by elonmusk \n",
      "\n",
      "19 - Abort triggered by flight computer on upper stage throttle valve. Adjusting thresholds and restarting count at T-10 mins.\n",
      " -- by elonmusk \n",
      "\n",
      "20 - Jeff maybe unaware SpaceX suborbital VTOL flight began 2013. Orbital water landing 2014. Orbital land landing next. https://t.co/S6WMRnEFY5\n",
      " -- by elonmusk \n",
      "\n",
      "21 - \"Expect to reach preliminary conclusions regarding last flight by end of week. Will brief key customers &amp; FAA, then post on our website.\"\n",
      " -- by elonmusk \n",
      "\n",
      "22 - Next landing attempt will be 3rd launch from now. Tonight's flight and following one will not have enough propellant.\n",
      " -- by elonmusk \n",
      "\n",
      "23 - RT @SpaceX: America’s next gen crewed spacecraft is almost ready for a test flight. Pad abort vehicle shipping to FL shortly. http://t.co/X…\n",
      " -- by elonmusk \n",
      "\n",
      "24 - RT @SpaceX: Updated animation of Falcon Heavy flight and booster recovery. Check it out: http://t.co/Y4OvdU8yQ5 http://t.co/LN7yRVAvkT\n",
      " -- by elonmusk \n",
      "\n",
      "25 - \"Upcoming flight already has 50% more hydraulic fluid, so should have plenty of margin for landing attempt next month.\"\n",
      " -- by elonmusk \n",
      "\n",
      "26 - \"The flight grid fins look like the ones on this test we did, but larger: https://t.co/gTaURQQeyx\"\n",
      " -- by elonmusk \n",
      "\n",
      "27 - @John_Gardi Using legs as air brakes to drop terminal velocity in half requires slight redesign &amp; more data. Maybe flight 21.\n",
      " -- by elonmusk \n",
      "\n",
      "28 - Testing operation of hypersonic grid fins (x-wing config) going on next flight http://t.co/O1tMSIXxsT\n",
      " -- by elonmusk \n",
      "\n",
      "29 - Three engine F9R Dev1 vehicle auto-terminated during test flight. No injuries or near injuries. Rockets are tricky …\n",
      " -- by elonmusk \n",
      "\n",
      "30 - Falcon 9 flight 11 to geosynchronous transfer orbit completed on target this morning http://t.co/UoJMNOHTUR\n",
      " -- by elonmusk \n",
      "\n",
      "31 - Flight 10 of Falcon 9 was good. All six ORBCOMM satellites deployed on target.\n",
      " -- by elonmusk \n",
      "\n",
      "32 - Test flight of Falcon 9-R with deployable grid fins for better hypersonic thru subsonic control http://t.co/6ZXpvPao2u\n",
      " -- by elonmusk \n",
      "\n",
      "33 - \"@RichardGarriott Just the air in Dragon. Technically, if a few humans had stowed aboard Dragon on the last flight, they would've been ok.\"\n",
      " -- by elonmusk \n",
      "\n",
      "34 - \"Second flight of Falcon 9-R. 1000m, hover and land (with cows) http://t.co/tixmBH5sw6\"\n",
      " -- by elonmusk \n",
      "\n",
      "35 - \"Cover drops on May 29. Actual flight design hardware of crew Dragon, not a mockup.\"\n",
      " -- by elonmusk \n",
      "\n",
      "36 - Flight computers continued transmitting for 8 seconds after reaching the water. Stopped when booster went horizontal.\n",
      " -- by elonmusk \n",
      "\n",
      "37 - Hexacopter drone vid of 1st F9 rocket booster takeoff &amp; landing w flight design legs http://t.co/FhZX3afK1a\n",
      " -- by elonmusk \n",
      "\n",
      "38 - Mounting landing legs (~60 ft span) to Falcon 9 for next month's Space Station servicing flight http://t.co/zyfazr2BB2\n",
      " -- by elonmusk \n",
      "\n",
      "39 - Rough cut of Falcon 9 Thaicom flight http://t.co/aC3k4neWie\n",
      " -- by elonmusk \n",
      "\n",
      "40 - At Disney World w kids for traditional prelaunch visit (first good flight was after riding Space Mountain)\n",
      " -- by elonmusk \n",
      "\n",
      "41 - \"Rocket flight to 744m, hover &amp; return to launch pad (close shot from hexacopter drone) http://t.co/vyJSUbZo2R\"\n",
      " -- by elonmusk \n",
      "\n",
      "42 - \"Between this flight &amp; Grasshopper tests, I think we now have all the pieces of the puzzle to bring the rocket back home.\"\n",
      " -- by elonmusk \n",
      "\n",
      "43 - \"Same rocket flight, but this time with cows! http://t.co/qhF5JWzyCW\"\n",
      " -- by elonmusk \n",
      "\n",
      "44 - \"Latest rocket test flight: hard lateral deviation, stabilize &amp; hover, rapid descent back to pad http://t.co/Vb7ebiMdNJ\"\n",
      " -- by elonmusk \n",
      "\n",
      "45 - \"@ponder68 Carbon produced by a @SpaceX rocket flight is roughly equal to one 747 flight. No, we should not be exempt.\"\n",
      " -- by elonmusk \n",
      "\n",
      "46 - \"@Alan_Nestos The legs are nested tight against the body of the rocket in flight, so rotate about 120 degrees to deploy\"\n",
      " -- by elonmusk \n",
      "\n",
      "47 - Congrats to @VirginGalactic and @RichardBranson on supersonic test flight!\n",
      " -- by elonmusk \n",
      "\n",
      "48 - @dbhyslop Will post a video of the latest Grasshopper flight tomorrow (taken from the camera on our new hexacopter).\n",
      " -- by elonmusk \n",
      "\n",
      "49 - Congratulations to @OrbitalSciences! “@CNETNews: Orbital's Antares rocket makes successful test flight http://t.co/y7bwdDMGCi”\n",
      " -- by elonmusk \n",
      "\n",
      "50 - @Asherlaw SpaceX is expanding launch ops at Canaveral too. Need 2 locations to handle flight rate and avoid weather risk\n",
      " -- by elonmusk \n",
      "\n",
      "51 - \"@EricIdle Cool! Btw, thought you might appreciate that 1st flight of Dragon spacecraft carried a large wheel of cheese :)\"\n",
      " -- by elonmusk \n",
      "\n",
      "52 - \"Did you know space ice cream only made it onto one flight? Turns out, it's gross. https://t.co/XJ6j5Qxktr https://t.co/92o7Z5i0iW\"\n",
      " -- by TEDTalks \n",
      "\n",
      "53 - Scientists have been trying to replicate bird flight for years. This robot finally soars: https://t.co/fvbLimPlJs https://t.co/YOjQtKti0v\n",
      " -- by TEDTalks \n",
      "\n",
      "54 - RT @emcconover: Spotted a celebrity on my flight to Chicago! Much excitement ensued. @Fermilab https://t.co/mWxquk8b6r\n",
      " -- by symmetrymag \n",
      "\n",
      "55 - RT @myusuf3: Flight of the Developers. https://t.co/nRZPzu62V8\n",
      " -- by pythonbot__ \n",
      "\n"
     ]
    }
   ],
   "source": [
    "import sqlite3\n",
    "import sys\n",
    "conn = sqlite3.connect('collection.db')\n",
    "c = conn.cursor()\n",
    "count=0\n",
    "# limits query to 1000\n",
    "req=1000\n",
    "search = raw_input(\"Search : \")\n",
    "for row in c.execute('SELECT rowid,* FROM tweets WHERE text MATCH ?', (search,)):    \n",
    "    count=count+1\n",
    "    print count,\"-\",(row)[1],\" -- by\",(row)[2],\"\\n\"\n",
    "    if count > req:\n",
    "        conn.close()\n",
    "        sys.exit()"
   ]
  },
  {
   "cell_type": "code",
   "execution_count": null,
   "metadata": {
    "collapsed": true
   },
   "outputs": [],
   "source": [
    "/home/jack/Desktop/text_stuff/symmetrymag.txt"
   ]
  },
  {
   "cell_type": "code",
   "execution_count": 13,
   "metadata": {
    "collapsed": true
   },
   "outputs": [],
   "source": [
    "savE = open('SavE.txt', 'w')\n",
    "savE.close()"
   ]
  },
  {
   "cell_type": "code",
   "execution_count": 17,
   "metadata": {
    "scrolled": true
   },
   "outputs": [
    {
     "name": "stdout",
     "output_type": "stream",
     "text": [
      "Guardians of the SpaceX Hyperloop competition.\n",
      "Upgrades underway to enable rocket to compensate for a special category for EVs.\n",
      "Heavy gust or something else.\n",
      "Really should be worth seeing.\n",
      "Doesn't sound like they are in Norway and we have ever had in 14 years.\n",
      "Smashing all of the #darkmatter!\n",
      "Ask Risa Wechsler tomorrow at noon Central #AskSymmetry #ICHEP2016 https://t.co/mVH6Ww6Iv7 ICYMI: The LHC is almost ready for physics!\n",
      "We never get enough quarks?\n",
      "What questions do you have for Tulika about the prevailing model for the #DEAP3600 experiment!\n",
      "Paper to be left-handed: http://t.co/CwEqoohAqy This week's top tweet: Time to do some physics!\n",
      "RT @PlanetSizeMe: This is super strange but appears to be left-handed: http://t.co/CwEqoohAqy @bertmorrien Thanks for the ICARUS experiment.\n",
      "Check out our timeline of the W bosons to be true.\n",
      "We added a high-resolution version in the data: via @symmetrymag DYK?\n",
      "Cosmologist @RisaWechsler is a neutrino?\n",
      "Next round begins tomorrow: http://t.co/FsRJJRND4v RT @Fermilab: Cool to see physicists too!\n",
      "One of the goals of AMS is to look forward to delivering the goods!\n",
      "That was what took the SpaceX/Tesla Hyperloop pusher pod for a diff reason.\n",
      "Paper to be close to the @Space_Station http://t.co/0KGddcVzV0 http://t.co/7F… Welcome @Chiefboltkennyh to @TeslaMotors.\n",
      "MT said everything had to be released… RT @Space_Station: .@SpaceX gets ready for Halloween?\n",
      "@CMaggiore50 Typing Mars after holding down the T symbol on the site: A goldmine of scientific knowledge?\n"
     ]
    }
   ],
   "source": [
    "import markovify\n",
    "import time\n",
    "f = open(\"symmetrymag.txt\")\n",
    "text = f.read()\n",
    "text_model_a = markovify.Text(text)\n",
    "\n",
    "\n",
    "ebook_b =open('elonmusk.txt')\n",
    "text0 = ebook_b.read()\n",
    "text_model_b = markovify.Text(text0)\n",
    "for i in range(5):\n",
    "    print(text_model_b.make_short_sentence(140))\n",
    "    STR0 = (text_model_b.make_short_sentence(140))\n",
    "    savE = open('SavE.txt', 'a')\n",
    "    savE.write(STR0)\n",
    "    savE.close()\n",
    "\n",
    "# 2. Print five randomly-generated sentences\n",
    "for i in range(5):\n",
    "    print(text_model_a.make_short_sentence(140))\n",
    "    STR = (text_model_a.make_short_sentence(140))\n",
    "    savE = open('SavE.txt', 'a')\n",
    "    savE.write(STR)\n",
    "    savE.close()\n",
    "# 3. Print three randomly-generated sentences of no more than 140 characters\n",
    "for i in range(5):\n",
    "    print(text_model_a.make_short_sentence(140))\n",
    "    STR2 = (text_model_a.make_short_sentence(140))\n",
    "    savE = open('SavE.txt', 'a')\n",
    "    savE.write(STR2)\n",
    "    savE.close()\n",
    "# Combine the models into a single one\n",
    "both_models = markovify.combine([text_model_a,text_model_b])\n",
    "for i in range(5):\n",
    "    print(both_models.make_short_sentence(140))    \n",
    "    STR3 = (both_models.make_short_sentence(140))  \n",
    "    savE = open('SavE.txt', 'a')\n",
    "    savE.write(STR3)\n",
    "    savE.close()    "
   ]
  },
  {
   "cell_type": "markdown",
   "metadata": {},
   "source": [
    "# python edit a line in a file"
   ]
  },
  {
   "cell_type": "code",
   "execution_count": 56,
   "metadata": {
    "collapsed": true
   },
   "outputs": [],
   "source": [
    "import fileinput\n"
   ]
  },
  {
   "cell_type": "code",
   "execution_count": 58,
   "metadata": {},
   "outputs": [
    {
     "ename": "RuntimeError",
     "evalue": "input() already active",
     "output_type": "error",
     "traceback": [
      "\u001b[0;31m---------------------------------------------------------------------------\u001b[0m",
      "\u001b[0;31mRuntimeError\u001b[0m                              Traceback (most recent call last)",
      "\u001b[0;32m<ipython-input-58-e9104075bab1>\u001b[0m in \u001b[0;36m<module>\u001b[0;34m()\u001b[0m\n\u001b[1;32m      1\u001b[0m \u001b[0;32mimport\u001b[0m \u001b[0mfileinput\u001b[0m\u001b[0;34m\u001b[0m\u001b[0m\n\u001b[1;32m      2\u001b[0m \u001b[0;34m\u001b[0m\u001b[0m\n\u001b[0;32m----> 3\u001b[0;31m \u001b[0;32mfor\u001b[0m \u001b[0mline\u001b[0m \u001b[0;32min\u001b[0m \u001b[0mfileinput\u001b[0m\u001b[0;34m.\u001b[0m\u001b[0minput\u001b[0m\u001b[0;34m(\u001b[0m\u001b[0;34m\"file.txt\"\u001b[0m\u001b[0;34m,\u001b[0m \u001b[0minplace\u001b[0m\u001b[0;34m=\u001b[0m\u001b[0mTrue\u001b[0m\u001b[0;34m)\u001b[0m\u001b[0;34m:\u001b[0m\u001b[0;34m\u001b[0m\u001b[0m\n\u001b[0m\u001b[1;32m      4\u001b[0m     \u001b[0;32mprint\u001b[0m \u001b[0mline\u001b[0m\u001b[0;34m[\u001b[0m\u001b[0;36m0\u001b[0m\u001b[0;34m]\u001b[0m\u001b[0;34m\u001b[0m\u001b[0m\n\u001b[1;32m      5\u001b[0m     \u001b[0;31m#print \"%d: %s\" % (fileinput.filelineno(), 4, 'zzzzzzzzzzz'),\u001b[0m\u001b[0;34m\u001b[0m\u001b[0;34m\u001b[0m\u001b[0m\n",
      "\u001b[0;32m/home/jack/anaconda2/lib/python2.7/fileinput.pyc\u001b[0m in \u001b[0;36minput\u001b[0;34m(files, inplace, backup, bufsize, mode, openhook)\u001b[0m\n\u001b[1;32m     93\u001b[0m     \u001b[0;32mglobal\u001b[0m \u001b[0m_state\u001b[0m\u001b[0;34m\u001b[0m\u001b[0m\n\u001b[1;32m     94\u001b[0m     \u001b[0;32mif\u001b[0m \u001b[0m_state\u001b[0m \u001b[0;32mand\u001b[0m \u001b[0m_state\u001b[0m\u001b[0;34m.\u001b[0m\u001b[0m_file\u001b[0m\u001b[0;34m:\u001b[0m\u001b[0;34m\u001b[0m\u001b[0m\n\u001b[0;32m---> 95\u001b[0;31m         \u001b[0;32mraise\u001b[0m \u001b[0mRuntimeError\u001b[0m\u001b[0;34m,\u001b[0m \u001b[0;34m\"input() already active\"\u001b[0m\u001b[0;34m\u001b[0m\u001b[0m\n\u001b[0m\u001b[1;32m     96\u001b[0m     \u001b[0m_state\u001b[0m \u001b[0;34m=\u001b[0m \u001b[0mFileInput\u001b[0m\u001b[0;34m(\u001b[0m\u001b[0mfiles\u001b[0m\u001b[0;34m,\u001b[0m \u001b[0minplace\u001b[0m\u001b[0;34m,\u001b[0m \u001b[0mbackup\u001b[0m\u001b[0;34m,\u001b[0m \u001b[0mbufsize\u001b[0m\u001b[0;34m,\u001b[0m \u001b[0mmode\u001b[0m\u001b[0;34m,\u001b[0m \u001b[0mopenhook\u001b[0m\u001b[0;34m)\u001b[0m\u001b[0;34m\u001b[0m\u001b[0m\n\u001b[1;32m     97\u001b[0m     \u001b[0;32mreturn\u001b[0m \u001b[0m_state\u001b[0m\u001b[0;34m\u001b[0m\u001b[0m\n",
      "\u001b[0;31mRuntimeError\u001b[0m: input() already active"
     ]
    }
   ],
   "source": [
    "import fileinput\n",
    "\n",
    "for line in fileinput.input(\"file.txt\", inplace=True):\n",
    "    print line[0]\n",
    "    #print \"%d: %s\" % (fileinput.filelineno(), 4, 'zzzzzzzzzzz'),"
   ]
  },
  {
   "cell_type": "code",
   "execution_count": 27,
   "metadata": {
    "collapsed": true
   },
   "outputs": [],
   "source": [
    "with open(\"Use.txt\",'r') as f:\n",
    "    get_all=f.readlines()\n"
   ]
  },
  {
   "cell_type": "markdown",
   "metadata": {},
   "source": [
    "# Edit a Text File with Python"
   ]
  },
  {
   "cell_type": "code",
   "execution_count": 29,
   "metadata": {
    "collapsed": true
   },
   "outputs": [],
   "source": [
    "with open(\"sample.txt\",'r') as f:\n",
    "    get_all=f.readlines()\n",
    "with open(\"file.txt\",'w') as f:\n",
    "    for i,line in enumerate(get_all,1): # Start counting lines at 1    \n",
    "        if i == 3:                      # overwrite line 3\n",
    "            f.writelines(\"This is my new TEXT on line three.\\n\")\n",
    "            #you may also add more lines\n",
    "            f.writelines(\"This is another line added under the first.\\n\") \n",
    "        else:\n",
    "            f.writelines(line)\n",
    "f.close()            "
   ]
  },
  {
   "cell_type": "code",
   "execution_count": 30,
   "metadata": {},
   "outputs": [
    {
     "name": "stdout",
     "output_type": "stream",
     "text": [
      "Overwriting sample.txt\n"
     ]
    }
   ],
   "source": [
    "%%writefile sample.txt\n",
    "The general rule is satisfied if they are reminded.\n",
    "Some people are exceeding graciousness at the table. \n",
    "Those people are fewer in number.\n",
    "Long, low masses of dust show the soldiers ground beforehand."
   ]
  },
  {
   "cell_type": "code",
   "execution_count": null,
   "metadata": {
    "collapsed": true
   },
   "outputs": [],
   "source": [
    "# %load file.txt\n",
    "The general rule is satisfied if they are reminded.\n",
    "Some people are exceeding graciousness at the table. \n",
    "This is my new TEXT on line three.\n",
    "This is another line added under the first.\n",
    "Long, low masses of dust show the soldiers ground beforehand."
   ]
  },
  {
   "cell_type": "markdown",
   "metadata": {},
   "source": [
    "# To insert a snippet past it between triple apostrophies"
   ]
  },
  {
   "cell_type": "code",
   "execution_count": 48,
   "metadata": {
    "collapsed": true
   },
   "outputs": [],
   "source": [
    "import sqlite3\n",
    "import base64\n",
    "#Connect to database: \n",
    "conn = sqlite3.connect('snippet.db')\n",
    "c = conn.cursor()\n",
    "#Single lines do not need the three quotes\n",
    "file = \"\"\"\n",
    "import Key\n",
    "from random import randint\n",
    "\n",
    "#Twitter API credentials\n",
    "consumer_key = Key.twiter()[0]\n",
    "consumer_secret = Key.twiter()[1]\n",
    "access_key = Key.twiter()[2]\n",
    "access_secret = Key.twiter()[3]\n",
    "\n",
    "def get_all_tweets(screen_name):\n",
    "    #Twitter only allows access to a users most recent 3240 tweets with this method\n",
    "\n",
    "    #authorize twitter, initialize tweepy\n",
    "    auth = tweepy.OAuthHandler(consumer_key, consumer_secret)\n",
    "    auth.set_access_token(access_key, access_secret)\n",
    "    api = tweepy.API(auth)\n",
    "\"\"\"\n",
    "encodedlistvalue=base64.b64encode(file)\n",
    "b = 'Key , using Key.py, using Key, API key'\n",
    "c.execute(\"INSERT INTO snippet VALUES (?,?,?)\", (encodedlistvalue, file, b))\n",
    "conn.commit()\n",
    "conn.close()\n"
   ]
  },
  {
   "cell_type": "code",
   "execution_count": 49,
   "metadata": {},
   "outputs": [
    {
     "name": "stdout",
     "output_type": "stream",
     "text": [
      "SearchKey\n",
      "1 - \n",
      "%%writefile Key.py\n",
      "def twiter():\n",
      "    CONSUMER_KEY = 'WWWWWWWWWWWWWWWW'\n",
      "    CONSUMER_SECRET = 'XXXXXXXXXXXXXXXXX'\n",
      "    ACCESS_KEY = 'YYYYYYYYYYYYYYYYYYY'\n",
      "    ACCESS_SECRET = 'ZZZZZZZZZZZZZZZZ'\n",
      "    twir = (CONSUMER_KEY, CONSUMER_SECRET, ACCESS_KEY, ACCESS_SECRET)\n",
      "    return twir\n",
      " -- by Key, Key.py, twitter api, Twitter API \n",
      "\n",
      "2 - \n",
      "import Key\n",
      "from random import randint\n",
      "\n",
      "#Twitter API credentials\n",
      "consumer_key = Key.twiter()[0]\n",
      "consumer_secret = Key.twiter()[1]\n",
      "access_key = Key.twiter()[2]\n",
      "access_secret = Key.twiter()[3]\n",
      "\n",
      "\n",
      "def get_all_tweets(screen_name):\n",
      "    #Twitter only allows access to a users most recent 3240 tweets with this method\n",
      "\n",
      "    #authorize twitter, initialize tweepy\n",
      "    auth = tweepy.OAuthHandler(consumer_key, consumer_secret)\n",
      "    auth.set_access_token(access_key, access_secret)\n",
      "    api = tweepy.API(auth)\n",
      "\n",
      " -- by Key , using Key.py, using Key, API key \n",
      "\n"
     ]
    }
   ],
   "source": [
    "import sqlite3\n",
    "import sys\n",
    "conn = sqlite3.connect('snippet.db')\n",
    "conn.text_factory = str\n",
    "c = conn.cursor()\n",
    "count=0\n",
    "req=200\n",
    "search = raw_input(\"Search : \")\n",
    "for row in c.execute('SELECT * FROM snippet WHERE keywords MATCH ?', (search,)):    \n",
    "    count=count+1\n",
    "    #print count,\"by\",(row)[2],\"\\n\",(row)[1],\"\\n\"\n",
    "    print count,\"-\",(row)[1],\" -- by\",(row)[2],\"\\n\"\n",
    "    if count > req:\n",
    "        conn.close()\n",
    "        sys.exit()"
   ]
  },
  {
   "cell_type": "markdown",
   "metadata": {},
   "source": [
    "# Searches of 'snippet.db' return formated \n",
    "# code that can be cut and pasted"
   ]
  },
  {
   "cell_type": "code",
   "execution_count": 12,
   "metadata": {},
   "outputs": [
    {
     "name": "stdout",
     "output_type": "stream",
     "text": [
      "1 \n",
      "\n",
      "delimiters = ['\\n', ' ', ',', '.', '?', '!', ':', 'and_what_else_you_need']\n",
      "words = content\n",
      "for delimiter in delimiters:\n",
      "    new_words = []\n",
      "    for word in words:\n",
      "        new_words += word.split(delimiter)\n",
      "    words = new_words\n",
      "\n",
      "\n",
      "Keywords: words, delimiter, split \n",
      " -----------------------------\n",
      "\n",
      "2 \n",
      "\n",
      "def insert_info(store):\n",
      "    with sqlite3.connect(\"misc.db\") as db:\n",
      "        #use a text_factory that can interpret 8-bit bytestrings \n",
      "        db.text_factory = str\n",
      "        cursor = db.cursor()\n",
      "        #db.text_factory = str\n",
      "        sql = \"insert into storeit (data0, data1, data2) values (?, ?, ?)\"\n",
      "        cursor.execute(sql, store)\n",
      "        db.commit()\n",
      "        \n",
      "        OR\n",
      "        conn.text_factory = str\n",
      "\n",
      "\n",
      "Keywords: text_factory, 8-bit bytestrings, 8-bit \n",
      " -----------------------------\n",
      "\n",
      "3 \n",
      "\n",
      "import sqlite3\n",
      "import sys\n",
      "conn = sqlite3.connect('snippet.db')\n",
      "conn.text_factory = str\n",
      "c = conn.cursor()\n",
      "count=0\n",
      "req=200\n",
      "search = raw_input(\"Search\")\n",
      "#for row in c.execute('SELECT rowid,* FROM tweets WHERE text MATCH %s' % search):\n",
      "for row in c.execute('SELECT * FROM snippet WHERE keywords MATCH ?', (search,)):    \n",
      "    count=count+1\n",
      "    #print count,\"by\",(row)[2],\"\n",
      "\",(row)[1],\"\n",
      "\"\n",
      "    print count,\"-\",(row)[1],\" -- by\",(row)[2],\"\n",
      "\"\n",
      "    if count > req:\n",
      "        conn.close()\n",
      "        sys.exit()\n",
      "\n",
      "\n",
      "Keywords: text_factory, 8-bit bytestrings, 8-bit \n",
      " -----------------------------\n",
      "\n",
      "4 \n",
      "\n",
      "with open(\"Use.txt\",'r') as f:\n",
      "    get_all=f.readlines()\n",
      "\n",
      "----------------\n",
      "with open(\"file.txt\",'w') as f:\n",
      "    for i,line in enumerate(get_all,1):  ## STARTS THE NUMBERING FROM 1 (by default it begins with 0)    \n",
      "        if i == 2:                       ## OVERWRITES line:2\n",
      "            f.writelines(\"XXXXXXXXXXXXXXXXXXXXXXX\n",
      "\")\n",
      "        else:\n",
      "            f.writelines(line)\n",
      "\n",
      "\n",
      "Keywords: enumerate, edit line, edit, edit line number \n",
      " -----------------------------\n",
      "\n",
      "5 \n",
      "\n",
      "%%writefile Key.py\n",
      "def twiter():\n",
      "    CONSUMER_KEY = 'WWWWWWWWWWWWWWWW'\n",
      "    CONSUMER_SECRET = 'XXXXXXXXXXXXXXXXX'\n",
      "    ACCESS_KEY = 'YYYYYYYYYYYYYYYYYYY'\n",
      "    ACCESS_SECRET = 'ZZZZZZZZZZZZZZZZ'\n",
      "    twir = (CONSUMER_KEY, CONSUMER_SECRET, ACCESS_KEY, ACCESS_SECRET)\n",
      "    return twir\n",
      "\n",
      "\n",
      "Keywords: Key, Key.py, twitter api, Twitter API \n",
      " -----------------------------\n",
      "\n",
      "6 \n",
      "\n",
      "from itertools import tee\n",
      "count=0\n",
      "with open(\"symmetrymag_tweets.csv\") as inf:\n",
      "    for line in inf:\n",
      "        lines  = line[39:]\n",
      "        outf = open(\"symmetrymag.txt\", \"a\") \n",
      "        outf.write(lines)\n",
      "outf.close() \n",
      "\n",
      "\n",
      "Keywords: CSV, clean csv, edit csv, prepare for database \n",
      " -----------------------------\n",
      "\n",
      "7 \n",
      "\n",
      "search = raw_input(\"find : \")\n",
      "file = open(\"symmetrymag.txt\")\n",
      "lines = file.readlines()\n",
      "for line in lines:\n",
      "    if search in line:print line\n",
      "    if search == True:\n",
      "        file.close()\n",
      "        exit()\n",
      "file.close()\n",
      "\n",
      "\n",
      "\n",
      "Keywords: search, search text file, textfile, edit textfile \n",
      " -----------------------------\n",
      "\n",
      "8 \n",
      "\n",
      "import sqlite3\n",
      "import time\n",
      "#account = \"TEDTalks.txt\"\n",
      "account = \"symmetrymag.txt\"\n",
      "#account = \"elonmusk.txt\"\n",
      "#account = \"realDonaldTrump.txt\"\n",
      "user = account[:-4]\n",
      "lines = open(account,\"r\")\n",
      "line = lines.readline()\n",
      "for line in lines:\n",
      "    conn = sqlite3.connect('collection.db')\n",
      "    conn.text_factory = str\n",
      "    c = conn.cursor()\n",
      "    c.execute(\"INSERT INTO tweets VALUES (?,?)\", (line, user)) \n",
      "    conn.commit()\n",
      "    conn.close()        \n",
      "    \n",
      "    #print line         \n",
      "\n",
      "conn.commit()\n",
      "conn.close()                 \n",
      "\n",
      "\n",
      "Keywords: insert data, text file to database, text to data \n",
      " -----------------------------\n",
      "\n",
      "9 \n",
      "\n",
      "import Key\n",
      "from random import randint\n",
      "\n",
      "#Twitter API credentials\n",
      "consumer_key = Key.twiter()[0]\n",
      "consumer_secret = Key.twiter()[1]\n",
      "access_key = Key.twiter()[2]\n",
      "access_secret = Key.twiter()[3]\n",
      "\n",
      "\n",
      "def get_all_tweets(screen_name):\n",
      "    #Twitter only allows access to a users most recent 3240 tweets with this method\n",
      "\n",
      "    #authorize twitter, initialize tweepy\n",
      "    auth = tweepy.OAuthHandler(consumer_key, consumer_secret)\n",
      "    auth.set_access_token(access_key, access_secret)\n",
      "    api = tweepy.API(auth)\n",
      "\n",
      "\n",
      "\n",
      "Keywords: Key , using Key.py, using Key, API key \n",
      " -----------------------------\n",
      "\n"
     ]
    }
   ],
   "source": [
    "import sqlite3\n",
    "import base64\n",
    "conn = sqlite3.connect('snippet.db')\n",
    "conn.text_factory = str\n",
    "c = conn.cursor()# Never \n",
    "for row in c.execute('SELECT rowid, base64, text, \\\n",
    "keywords FROM snippet ORDER BY ROWID'):    \n",
    "        # display as asci instead of unicode\n",
    "        s2 = row[1].encode('ascii')\n",
    "        #decode the base64 stored data\n",
    "        encodedlistvalue=base64.b64decode(s2)\n",
    "        print row[0],\"\\n\",encodedlistvalue, '\\n', \\\n",
    "        '\\nKeywords:',row[3],'\\n -----------------------------\\n'"
   ]
  },
  {
   "cell_type": "code",
   "execution_count": null,
   "metadata": {
    "collapsed": true
   },
   "outputs": [],
   "source": [
    "import sqlite3\n",
    "import base64\n",
    "conn = sqlite3.connect('snippet.db')\n",
    "conn.text_factory = str\n",
    "c = conn.cursor()# Never \n",
    "for row in c.execute('SELECT rowid, base64, text, keywords FROM snippet ORDER BY ROWID'):    \n",
    "        # display as asci instead of unicode\n",
    "        s2 = row[1].encode('ascii')\n",
    "        #decode the base64 stored data\n",
    "        encodedlistvalue=base64.b64decode(s2)\n",
    "        print row[0],\"\\n\",encodedlistvalue, '\\n', '\\nKeywords:',row[3],'\\n -----------------------------\\n'"
   ]
  },
  {
   "cell_type": "markdown",
   "metadata": {},
   "source": [
    "##  Searches of 'snippet.db' return formated code "
   ]
  },
  {
   "cell_type": "code",
   "execution_count": 14,
   "metadata": {},
   "outputs": [
    {
     "name": "stdout",
     "output_type": "stream",
     "text": [
      "Search : factory\n",
      "1 - \n",
      "def insert_info(store):\n",
      "    with sqlite3.connect(\"misc.db\") as db:\n",
      "        #use a text_factory that can interpret 8-bit bytestrings \n",
      "        db.text_factory = str\n",
      "        cursor = db.cursor()\n",
      "        #db.text_factory = str\n",
      "        sql = \"insert into storeit (data0, data1, data2) values (?, ?, ?)\"\n",
      "        cursor.execute(sql, store)\n",
      "        db.commit()\n",
      "        \n",
      "        OR\n",
      "        conn.text_factory = str\n",
      " -- by text_factory, 8-bit bytestrings, 8-bit \n",
      "\n",
      "2 - \n",
      "import sqlite3\n",
      "import sys\n",
      "conn = sqlite3.connect('snippet.db')\n",
      "conn.text_factory = str\n",
      "c = conn.cursor()\n",
      "count=0\n",
      "req=200\n",
      "search = raw_input(\"Search\")\n",
      "#for row in c.execute('SELECT rowid,* FROM tweets WHERE text MATCH %s' % search):\n",
      "for row in c.execute('SELECT * FROM snippet WHERE keywords MATCH ?', (search,)):    \n",
      "    count=count+1\n",
      "    #print count,\"by\",(row)[2],\"\n",
      "\",(row)[1],\"\n",
      "\"\n",
      "    print count,\"-\",(row)[1],\" -- by\",(row)[2],\"\n",
      "\"\n",
      "    if count > req:\n",
      "        conn.close()\n",
      "        sys.exit()\n",
      " -- by text_factory, 8-bit bytestrings, 8-bit \n",
      "\n",
      "3 - \n",
      "import sqlite3\n",
      "import time\n",
      "#account = \"TEDTalks.txt\"\n",
      "account = \"symmetrymag.txt\"\n",
      "#account = \"elonmusk.txt\"\n",
      "#account = \"realDonaldTrump.txt\"\n",
      "user = account[:-4]\n",
      "lines = open(account,\"r\")\n",
      "line = lines.readline()\n",
      "for line in lines:\n",
      "    conn = sqlite3.connect('collection.db')\n",
      "    conn.text_factory = str\n",
      "    c = conn.cursor()\n",
      "    c.execute(\"INSERT INTO tweets VALUES (?,?)\", (line, user)) \n",
      "    conn.commit()\n",
      "    conn.close()        \n",
      "    \n",
      "    #print line         \n",
      "\n",
      "conn.commit()\n",
      "conn.close()                 \n",
      " -- by insert data, text file to database, text to data \n",
      "\n"
     ]
    }
   ],
   "source": [
    "#Returned code can be cut and pasted\n",
    "import sqlite3\n",
    "import sys\n",
    "conn = sqlite3.connect('snippet.db')\n",
    "conn.text_factory = str\n",
    "c = conn.cursor()\n",
    "count=0;req=200\n",
    "search = raw_input(\"Search : \")\n",
    "for row in c.execute('SELECT * FROM snippet WHERE text MATCH ?', (search,)):    \n",
    "    count=count+1\n",
    "    #print count,\"by\",(row)[2],\"\\n\",(row)[1],\"\\n\"\n",
    "    print count,\"-\",(row)[1],\" -- by\",(row)[2],\"\\n\"\n",
    "    if count > req:\n",
    "        conn.close()\n",
    "        sys.exit()"
   ]
  },
  {
   "cell_type": "code",
   "execution_count": 3,
   "metadata": {},
   "outputs": [
    {
     "ename": "UnicodeDecodeError",
     "evalue": "'utf8' codec can't decode byte 0x80 in position 3766961: invalid start byte",
     "output_type": "error",
     "traceback": [
      "\u001b[0;31m---------------------------------------------------------------------------\u001b[0m",
      "\u001b[0;31mUnicodeDecodeError\u001b[0m                        Traceback (most recent call last)",
      "\u001b[0;32m<ipython-input-3-b7e69c19f207>\u001b[0m in \u001b[0;36m<module>\u001b[0;34m()\u001b[0m\n\u001b[1;32m      3\u001b[0m \u001b[0;32mimport\u001b[0m \u001b[0mio\u001b[0m\u001b[0;34m\u001b[0m\u001b[0m\n\u001b[1;32m      4\u001b[0m \u001b[0;32mwith\u001b[0m \u001b[0mio\u001b[0m\u001b[0;34m.\u001b[0m\u001b[0mopen\u001b[0m\u001b[0;34m(\u001b[0m\u001b[0;34m'ALLtext.txt'\u001b[0m\u001b[0;34m,\u001b[0m\u001b[0;34m'r'\u001b[0m\u001b[0;34m,\u001b[0m\u001b[0mencoding\u001b[0m\u001b[0;34m=\u001b[0m\u001b[0;34m'utf8'\u001b[0m\u001b[0;34m)\u001b[0m \u001b[0;32mas\u001b[0m \u001b[0mf\u001b[0m\u001b[0;34m:\u001b[0m\u001b[0;34m\u001b[0m\u001b[0m\n\u001b[0;32m----> 5\u001b[0;31m     \u001b[0mtext\u001b[0m \u001b[0;34m=\u001b[0m \u001b[0mf\u001b[0m\u001b[0;34m.\u001b[0m\u001b[0mread\u001b[0m\u001b[0;34m(\u001b[0m\u001b[0;34m)\u001b[0m\u001b[0;34m\u001b[0m\u001b[0m\n\u001b[0m\u001b[1;32m      6\u001b[0m     \u001b[0mtext\u001b[0m \u001b[0;34m=\u001b[0m \u001b[0mtext\u001b[0m\u001b[0;34m.\u001b[0m\u001b[0mencode\u001b[0m\u001b[0;34m(\u001b[0m\u001b[0;34m'ISO-8859-1'\u001b[0m\u001b[0;34m)\u001b[0m\u001b[0;34m.\u001b[0m\u001b[0mstrip\u001b[0m\u001b[0;34m(\u001b[0m\u001b[0;34m)\u001b[0m\u001b[0;34m\u001b[0m\u001b[0m\n\u001b[1;32m      7\u001b[0m \u001b[0;31m# process Unicode text\u001b[0m\u001b[0;34m\u001b[0m\u001b[0;34m\u001b[0m\u001b[0m\n",
      "\u001b[0;32m/home/jack/anaconda2/lib/python2.7/codecs.pyc\u001b[0m in \u001b[0;36mdecode\u001b[0;34m(self, input, final)\u001b[0m\n\u001b[1;32m    312\u001b[0m         \u001b[0;31m# decode input (taking the buffer into account)\u001b[0m\u001b[0;34m\u001b[0m\u001b[0;34m\u001b[0m\u001b[0m\n\u001b[1;32m    313\u001b[0m         \u001b[0mdata\u001b[0m \u001b[0;34m=\u001b[0m \u001b[0mself\u001b[0m\u001b[0;34m.\u001b[0m\u001b[0mbuffer\u001b[0m \u001b[0;34m+\u001b[0m \u001b[0minput\u001b[0m\u001b[0;34m\u001b[0m\u001b[0m\n\u001b[0;32m--> 314\u001b[0;31m         \u001b[0;34m(\u001b[0m\u001b[0mresult\u001b[0m\u001b[0;34m,\u001b[0m \u001b[0mconsumed\u001b[0m\u001b[0;34m)\u001b[0m \u001b[0;34m=\u001b[0m \u001b[0mself\u001b[0m\u001b[0;34m.\u001b[0m\u001b[0m_buffer_decode\u001b[0m\u001b[0;34m(\u001b[0m\u001b[0mdata\u001b[0m\u001b[0;34m,\u001b[0m \u001b[0mself\u001b[0m\u001b[0;34m.\u001b[0m\u001b[0merrors\u001b[0m\u001b[0;34m,\u001b[0m \u001b[0mfinal\u001b[0m\u001b[0;34m)\u001b[0m\u001b[0;34m\u001b[0m\u001b[0m\n\u001b[0m\u001b[1;32m    315\u001b[0m         \u001b[0;31m# keep undecoded input until the next call\u001b[0m\u001b[0;34m\u001b[0m\u001b[0;34m\u001b[0m\u001b[0m\n\u001b[1;32m    316\u001b[0m         \u001b[0mself\u001b[0m\u001b[0;34m.\u001b[0m\u001b[0mbuffer\u001b[0m \u001b[0;34m=\u001b[0m \u001b[0mdata\u001b[0m\u001b[0;34m[\u001b[0m\u001b[0mconsumed\u001b[0m\u001b[0;34m:\u001b[0m\u001b[0;34m]\u001b[0m\u001b[0;34m\u001b[0m\u001b[0m\n",
      "\u001b[0;31mUnicodeDecodeError\u001b[0m: 'utf8' codec can't decode byte 0x80 in position 3766961: invalid start byte"
     ]
    }
   ],
   "source": [
    "readOUT = open(\"ALLtextClean.txt\",\"w\")\n",
    "readOUT.close()\n",
    "import io\n",
    "with io.open('ALLtext.txt','r',encoding='utf8') as f:\n",
    "    text = f.read()\n",
    "    text = text.encode('ISO-8859-1').strip()\n",
    "# process Unicode text\n",
    "with io.open('ALLtextClean.txt','a',encoding='utf8') as f:\n",
    "    f.write(text)"
   ]
  },
  {
   "cell_type": "code",
   "execution_count": null,
   "metadata": {
    "collapsed": true
   },
   "outputs": [],
   "source": []
  }
 ],
 "metadata": {
  "kernelspec": {
   "display_name": "Python 2",
   "language": "python",
   "name": "python2"
  },
  "language_info": {
   "codemirror_mode": {
    "name": "ipython",
    "version": 2
   },
   "file_extension": ".py",
   "mimetype": "text/x-python",
   "name": "python",
   "nbconvert_exporter": "python",
   "pygments_lexer": "ipython2",
   "version": "2.7.13"
  }
 },
 "nbformat": 4,
 "nbformat_minor": 2
}
