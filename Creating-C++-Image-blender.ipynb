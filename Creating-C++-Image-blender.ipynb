{
 "cells": [
  {
   "cell_type": "markdown",
   "metadata": {},
   "source": [
    "## A fast easy image blender called \"controlBlend\"\n",
    "The script and compiling directions are below. It can be done without leaving the Jupyter Notebook<br />\n",
    "the top line ' %%writefile controlBlend.cpp ' will write the C++ file "
   ]
  },
  {
   "cell_type": "markdown",
   "metadata": {},
   "source": [
    "Executing/running the next line will compile ' controlBlend.cpp '"
   ]
  },
  {
   "cell_type": "code",
   "execution_count": 10,
   "metadata": {},
   "outputs": [],
   "source": [
    "!./searchBlend"
   ]
  },
  {
   "cell_type": "code",
   "execution_count": 7,
   "metadata": {
    "collapsed": true,
    "inputHidden": false,
    "outputHidden": false
   },
   "outputs": [],
   "source": [
    "!g++ searchBlend.cpp -o searchBlend `pkg-config opencv --cflags --libs`"
   ]
  },
  {
   "cell_type": "markdown",
   "metadata": {},
   "source": [
    "When run the next line shows the file ' image1.png ' in a pop upwindow called <b>Image Viewer</b><br />\n",
    "Since it was copied to /usr/local/bin it is an executable from any directory. You many use<br />\n",
    "the notebook or in a terminal window via command line."
   ]
  },
  {
   "cell_type": "code",
   "execution_count": 6,
   "metadata": {
    "inputHidden": false,
    "outputHidden": false
   },
   "outputs": [
    {
     "name": "stdout",
     "output_type": "stream",
     "text": [
      "Writing searchBlend.cpp\n"
     ]
    }
   ],
   "source": [
    "%%writefile searchBlend.cpp\n",
    "#include <cv.h>\n",
    "#include <highgui.h>\n",
    "\n",
    "using namespace cv;\n",
    "\n",
    "/// Global Variables\n",
    "const int alpha_slider_max = 100;\n",
    "int alpha_slider;\n",
    "double alpha;\n",
    "double beta;\n",
    "\n",
    "/// Matrices to store images\n",
    "Mat src1;\n",
    "Mat src2;\n",
    "Mat dst;\n",
    "\n",
    "/**\n",
    " * @function on_trackbar\n",
    " * @brief Callback for trackbar\n",
    " */\n",
    "void on_trackbar( int, void* )\n",
    "{\n",
    " alpha = (double) alpha_slider/alpha_slider_max ;\n",
    " beta = ( 1.0 - alpha );\n",
    "\n",
    " addWeighted( src1, alpha, src2, beta, 0.0, dst);\n",
    "\n",
    " imshow( \"Linear Blend\", dst );\n",
    "}\n",
    "\n",
    "int main( int argc, char** argv )\n",
    "{\n",
    " /// Read image ( same size, same type )\n",
    " src1 = imread(\"search/01.jpg\");\n",
    " src2 = imread(\"search/02.jpg\");\n",
    "\n",
    " if( !src1.data ) { printf(\"Error loading src1 \\n\"); return -1; }\n",
    " if( !src2.data ) { printf(\"Error loading src2 \\n\"); return -1; }\n",
    "\n",
    " /// Initialize values\n",
    " alpha_slider = 0;\n",
    "\n",
    " /// Create Windows\n",
    " namedWindow(\"Linear Blend\", 1);\n",
    "\n",
    " /// Create Trackbars\n",
    " char TrackbarName[50];\n",
    " sprintf( TrackbarName, \"Alpha x %d\", alpha_slider_max );\n",
    "\n",
    " createTrackbar( TrackbarName, \"Linear Blend\", &alpha_slider, alpha_slider_max, on_trackbar );\n",
    "\n",
    " /// Show some stuff\n",
    " on_trackbar( alpha_slider, 0 );\n",
    "\n",
    " /// Wait until user press some key\n",
    " waitKey(0);\n",
    " return 0;\n",
    "}"
   ]
  },
  {
   "cell_type": "markdown",
   "metadata": {
    "inputHidden": false,
    "outputHidden": false
   },
   "source": [
    "# Here is a nice Image Blending program written in C++"
   ]
  },
  {
   "cell_type": "code",
   "execution_count": 3,
   "metadata": {},
   "outputs": [
    {
     "name": "stdout",
     "output_type": "stream",
     "text": [
      "aa.png\r\n",
      "ariver001.jpg\r\n",
      "ariver002.jpg\r\n",
      "bb.png\r\n",
      "Bible_Search_in_SQL.ipynb\r\n",
      "Bt.py\r\n",
      "clean2.txt\r\n",
      "cleanout.txt\r\n",
      "clean.py\r\n",
      "clean.txt\r\n",
      "cleanwords.txt\r\n",
      "collagemaker.py\r\n",
      "controlBlend\r\n",
      "controlBlend.cpp\r\n",
      "Creating-C++-Image-blender.ipynb\r\n",
      "Creating-C++-Image-viewer.ipynb\r\n",
      "DEEP-DREAM-ONLY.ipynb\r\n",
      "e_101.txt\r\n",
      "exp001.txt\r\n",
      "FileLen.py\r\n",
      "FileLen.pyc\r\n",
      "FTS3_Database.ipynb\r\n",
      "geckodriver.log\r\n",
      "generate.py\r\n",
      "grimm.txt\r\n",
      "hashonly2.txt\r\n",
      "hashonlyNoBlank2.txt\r\n",
      "hashonlyNoBlankNoDupsNoHash.txt\r\n",
      "hashonlyNoBlankNoDups.txt\r\n",
      "hashonlyNoBlank.txt\r\n",
      "hashonlyS.txt\r\n",
      "hashonly.txt\r\n",
      "hashtag-nouns.txt\r\n",
      "hashtag.txt\r\n",
      "hekel.txt\r\n",
      "hek.txt\r\n",
      "hex.jpg\r\n",
      "instagram\r\n",
      "junk\r\n",
      "junque.txt\r\n",
      "misc_twitter_stuff.ipynb\r\n",
      "NewNotebook1.ipynb\r\n",
      "NewNotebook.ipynb\r\n",
      "nodupsnohash2.txt\r\n",
      "nodupsnohash.txt\r\n",
      "NShashonlyS.txt\r\n",
      "output2.txt\r\n",
      "output.txt\r\n",
      "palettize.py\r\n",
      "paletts.py\r\n",
      "Palett_Swap.ipynb\r\n",
      "Parsing_and_Storing_RSS_newsfeeds_in_SQLite.ipynb\r\n",
      "pass_phrase\r\n",
      "phrases2.txt\r\n",
      "phrases3.txt\r\n",
      "phrases.txt\r\n",
      "RandCap.py\r\n",
      "RandLine.py\r\n",
      "RandLine.pyc\r\n",
      "RandNoun.py\r\n",
      "RandomLine.py\r\n",
      "RandomLine.pyc\r\n",
      "realwords.txt\r\n",
      "savE_patern.txt\r\n",
      "savE_sentence.txt\r\n",
      "savE.txt\r\n",
      "screencap\r\n",
      "search\r\n",
      "Snippet_Warehouse-MySQL-SQLite-code-storage-search.ipynb\r\n",
      "syn.py\r\n",
      "temp2.txt\r\n",
      "temp.txt\r\n",
      "testfile002.txt\r\n",
      "testfile.txt\r\n",
      "testingagain.jpg\r\n",
      "text2sent.py\r\n",
      "Text_Generation-from-twitter.ipynb\r\n",
      "Text_Generation.ipynb\r\n",
      "Tidyt.py\r\n",
      "Tidyt.pyc\r\n",
      "tmp.prototxt\r\n",
      "ToUse.txt\r\n",
      "Tpost.py\r\n",
      "tweets.db\r\n",
      "TwitterBot.py\r\n",
      "twittertext2.db\r\n",
      "twittertext64.db\r\n",
      "twittertext.db\r\n",
      "usersNoBlank.txt\r\n",
      "usersNoDups.txt\r\n",
      "users.txt\r\n",
      "virtual.txt\r\n",
      "Working_with_Tweets_and_Text_Results.ipynb\r\n"
     ]
    }
   ],
   "source": [
    "!ls "
   ]
  },
  {
   "cell_type": "code",
   "execution_count": null,
   "metadata": {
    "collapsed": true
   },
   "outputs": [],
   "source": []
  }
 ],
 "metadata": {
  "kernel_info": {
   "name": "python2"
  },
  "kernelspec": {
   "display_name": "Python 2",
   "language": "python",
   "name": "python2"
  },
  "language_info": {
   "codemirror_mode": {
    "name": "ipython",
    "version": 2
   },
   "file_extension": ".py",
   "mimetype": "text/x-python",
   "name": "python",
   "nbconvert_exporter": "python",
   "pygments_lexer": "ipython2",
   "version": "2.7.13"
  }
 },
 "nbformat": 4,
 "nbformat_minor": 2
}
